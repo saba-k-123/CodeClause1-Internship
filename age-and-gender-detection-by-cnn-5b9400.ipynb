{
 "cells": [
  {
   "cell_type": "markdown",
   "id": "df27b461",
   "metadata": {
    "papermill": {
     "duration": 0.046411,
     "end_time": "2023-08-03T06:56:15.371689",
     "exception": false,
     "start_time": "2023-08-03T06:56:15.325278",
     "status": "completed"
    },
    "tags": []
   },
   "source": [
    "# Face detection on the basis of age, gender and ethnicity"
   ]
  },
  {
   "cell_type": "markdown",
   "id": "a9048ec6",
   "metadata": {
    "papermill": {
     "duration": 0.0442,
     "end_time": "2023-08-03T06:56:15.461273",
     "exception": false,
     "start_time": "2023-08-03T06:56:15.417073",
     "status": "completed"
    },
    "tags": []
   },
   "source": [
    "## Importing essential libraries"
   ]
  },
  {
   "cell_type": "code",
   "execution_count": 1,
   "id": "c6bb860f",
   "metadata": {
    "execution": {
     "iopub.execute_input": "2023-08-03T06:56:15.560612Z",
     "iopub.status.busy": "2023-08-03T06:56:15.558909Z",
     "iopub.status.idle": "2023-08-03T06:56:16.475845Z",
     "shell.execute_reply": "2023-08-03T06:56:16.476417Z",
     "shell.execute_reply.started": "2023-08-03T06:27:50.786992Z"
    },
    "papermill": {
     "duration": 0.969531,
     "end_time": "2023-08-03T06:56:16.476764",
     "exception": false,
     "start_time": "2023-08-03T06:56:15.507233",
     "status": "completed"
    },
    "tags": []
   },
   "outputs": [],
   "source": [
    "import numpy as np\n",
    "import pandas as pd\n",
    "import matplotlib.pyplot as plt\n",
    "import seaborn as sns\n",
    "sns.set_style('darkgrid')\n",
    "import warnings\n",
    "warnings.filterwarnings('ignore')"
   ]
  },
  {
   "cell_type": "markdown",
   "id": "472296ef",
   "metadata": {
    "papermill": {
     "duration": 0.043311,
     "end_time": "2023-08-03T06:56:16.572137",
     "exception": false,
     "start_time": "2023-08-03T06:56:16.528826",
     "status": "completed"
    },
    "tags": []
   },
   "source": [
    "Loading a dataset"
   ]
  },
  {
   "cell_type": "code",
   "execution_count": 2,
   "id": "3dfe172f",
   "metadata": {
    "execution": {
     "iopub.execute_input": "2023-08-03T06:56:16.667782Z",
     "iopub.status.busy": "2023-08-03T06:56:16.667116Z",
     "iopub.status.idle": "2023-08-03T06:56:21.310495Z",
     "shell.execute_reply": "2023-08-03T06:56:21.309435Z",
     "shell.execute_reply.started": "2023-08-03T06:27:52.062248Z"
    },
    "papermill": {
     "duration": 4.693834,
     "end_time": "2023-08-03T06:56:21.310666",
     "exception": false,
     "start_time": "2023-08-03T06:56:16.616832",
     "status": "completed"
    },
    "tags": []
   },
   "outputs": [
    {
     "data": {
      "text/html": [
       "<div>\n",
       "<style scoped>\n",
       "    .dataframe tbody tr th:only-of-type {\n",
       "        vertical-align: middle;\n",
       "    }\n",
       "\n",
       "    .dataframe tbody tr th {\n",
       "        vertical-align: top;\n",
       "    }\n",
       "\n",
       "    .dataframe thead th {\n",
       "        text-align: right;\n",
       "    }\n",
       "</style>\n",
       "<table border=\"1\" class=\"dataframe\">\n",
       "  <thead>\n",
       "    <tr style=\"text-align: right;\">\n",
       "      <th></th>\n",
       "      <th>age</th>\n",
       "      <th>ethnicity</th>\n",
       "      <th>gender</th>\n",
       "      <th>img_name</th>\n",
       "      <th>pixels</th>\n",
       "    </tr>\n",
       "  </thead>\n",
       "  <tbody>\n",
       "    <tr>\n",
       "      <th>0</th>\n",
       "      <td>1</td>\n",
       "      <td>2</td>\n",
       "      <td>0</td>\n",
       "      <td>20161219203650636.jpg.chip.jpg</td>\n",
       "      <td>129 128 128 126 127 130 133 135 139 142 145 14...</td>\n",
       "    </tr>\n",
       "    <tr>\n",
       "      <th>1</th>\n",
       "      <td>1</td>\n",
       "      <td>2</td>\n",
       "      <td>0</td>\n",
       "      <td>20161219222752047.jpg.chip.jpg</td>\n",
       "      <td>164 74 111 168 169 171 175 182 184 188 193 199...</td>\n",
       "    </tr>\n",
       "    <tr>\n",
       "      <th>2</th>\n",
       "      <td>1</td>\n",
       "      <td>2</td>\n",
       "      <td>0</td>\n",
       "      <td>20161219222832191.jpg.chip.jpg</td>\n",
       "      <td>67 70 71 70 69 67 70 79 90 103 116 132 145 155...</td>\n",
       "    </tr>\n",
       "    <tr>\n",
       "      <th>3</th>\n",
       "      <td>1</td>\n",
       "      <td>2</td>\n",
       "      <td>0</td>\n",
       "      <td>20161220144911423.jpg.chip.jpg</td>\n",
       "      <td>193 197 198 200 199 200 202 203 204 205 208 21...</td>\n",
       "    </tr>\n",
       "    <tr>\n",
       "      <th>4</th>\n",
       "      <td>1</td>\n",
       "      <td>2</td>\n",
       "      <td>0</td>\n",
       "      <td>20161220144914327.jpg.chip.jpg</td>\n",
       "      <td>202 205 209 210 209 209 210 211 212 214 218 21...</td>\n",
       "    </tr>\n",
       "  </tbody>\n",
       "</table>\n",
       "</div>"
      ],
      "text/plain": [
       "   age  ethnicity  gender                        img_name  \\\n",
       "0    1          2       0  20161219203650636.jpg.chip.jpg   \n",
       "1    1          2       0  20161219222752047.jpg.chip.jpg   \n",
       "2    1          2       0  20161219222832191.jpg.chip.jpg   \n",
       "3    1          2       0  20161220144911423.jpg.chip.jpg   \n",
       "4    1          2       0  20161220144914327.jpg.chip.jpg   \n",
       "\n",
       "                                              pixels  \n",
       "0  129 128 128 126 127 130 133 135 139 142 145 14...  \n",
       "1  164 74 111 168 169 171 175 182 184 188 193 199...  \n",
       "2  67 70 71 70 69 67 70 79 90 103 116 132 145 155...  \n",
       "3  193 197 198 200 199 200 202 203 204 205 208 21...  \n",
       "4  202 205 209 210 209 209 210 211 212 214 218 21...  "
      ]
     },
     "execution_count": 2,
     "metadata": {},
     "output_type": "execute_result"
    }
   ],
   "source": [
    "data = pd.read_csv(\"../input/age-gender-and-ethnicity-face-data-csv/age_gender.csv\")\n",
    "data.head()"
   ]
  },
  {
   "cell_type": "markdown",
   "id": "bdfb7da9",
   "metadata": {
    "papermill": {
     "duration": 0.044654,
     "end_time": "2023-08-03T06:56:21.402403",
     "exception": false,
     "start_time": "2023-08-03T06:56:21.357749",
     "status": "completed"
    },
    "tags": []
   },
   "source": [
    "## Analyzing and cleaning the data"
   ]
  },
  {
   "cell_type": "code",
   "execution_count": 3,
   "id": "45a6726f",
   "metadata": {
    "execution": {
     "iopub.execute_input": "2023-08-03T06:56:21.496089Z",
     "iopub.status.busy": "2023-08-03T06:56:21.495020Z",
     "iopub.status.idle": "2023-08-03T06:56:21.512331Z",
     "shell.execute_reply": "2023-08-03T06:56:21.512956Z",
     "shell.execute_reply.started": "2023-08-03T06:27:57.180498Z"
    },
    "papermill": {
     "duration": 0.066545,
     "end_time": "2023-08-03T06:56:21.513161",
     "exception": false,
     "start_time": "2023-08-03T06:56:21.446616",
     "status": "completed"
    },
    "tags": []
   },
   "outputs": [
    {
     "data": {
      "text/html": [
       "<div>\n",
       "<style scoped>\n",
       "    .dataframe tbody tr th:only-of-type {\n",
       "        vertical-align: middle;\n",
       "    }\n",
       "\n",
       "    .dataframe tbody tr th {\n",
       "        vertical-align: top;\n",
       "    }\n",
       "\n",
       "    .dataframe thead th {\n",
       "        text-align: right;\n",
       "    }\n",
       "</style>\n",
       "<table border=\"1\" class=\"dataframe\">\n",
       "  <thead>\n",
       "    <tr style=\"text-align: right;\">\n",
       "      <th></th>\n",
       "      <th>age</th>\n",
       "      <th>ethnicity</th>\n",
       "      <th>gender</th>\n",
       "      <th>pixels</th>\n",
       "    </tr>\n",
       "  </thead>\n",
       "  <tbody>\n",
       "    <tr>\n",
       "      <th>0</th>\n",
       "      <td>1</td>\n",
       "      <td>2</td>\n",
       "      <td>0</td>\n",
       "      <td>129 128 128 126 127 130 133 135 139 142 145 14...</td>\n",
       "    </tr>\n",
       "    <tr>\n",
       "      <th>1</th>\n",
       "      <td>1</td>\n",
       "      <td>2</td>\n",
       "      <td>0</td>\n",
       "      <td>164 74 111 168 169 171 175 182 184 188 193 199...</td>\n",
       "    </tr>\n",
       "    <tr>\n",
       "      <th>2</th>\n",
       "      <td>1</td>\n",
       "      <td>2</td>\n",
       "      <td>0</td>\n",
       "      <td>67 70 71 70 69 67 70 79 90 103 116 132 145 155...</td>\n",
       "    </tr>\n",
       "    <tr>\n",
       "      <th>3</th>\n",
       "      <td>1</td>\n",
       "      <td>2</td>\n",
       "      <td>0</td>\n",
       "      <td>193 197 198 200 199 200 202 203 204 205 208 21...</td>\n",
       "    </tr>\n",
       "    <tr>\n",
       "      <th>4</th>\n",
       "      <td>1</td>\n",
       "      <td>2</td>\n",
       "      <td>0</td>\n",
       "      <td>202 205 209 210 209 209 210 211 212 214 218 21...</td>\n",
       "    </tr>\n",
       "  </tbody>\n",
       "</table>\n",
       "</div>"
      ],
      "text/plain": [
       "   age  ethnicity  gender                                             pixels\n",
       "0    1          2       0  129 128 128 126 127 130 133 135 139 142 145 14...\n",
       "1    1          2       0  164 74 111 168 169 171 175 182 184 188 193 199...\n",
       "2    1          2       0  67 70 71 70 69 67 70 79 90 103 116 132 145 155...\n",
       "3    1          2       0  193 197 198 200 199 200 202 203 204 205 208 21...\n",
       "4    1          2       0  202 205 209 210 209 209 210 211 212 214 218 21..."
      ]
     },
     "execution_count": 3,
     "metadata": {},
     "output_type": "execute_result"
    }
   ],
   "source": [
    "df = data.drop('img_name', axis=1)\n",
    "df.head()"
   ]
  },
  {
   "cell_type": "code",
   "execution_count": 4,
   "id": "4b61b11f",
   "metadata": {
    "execution": {
     "iopub.execute_input": "2023-08-03T06:56:21.614671Z",
     "iopub.status.busy": "2023-08-03T06:56:21.613575Z",
     "iopub.status.idle": "2023-08-03T06:56:21.615856Z",
     "shell.execute_reply": "2023-08-03T06:56:21.616399Z",
     "shell.execute_reply.started": "2023-08-03T06:27:57.210165Z"
    },
    "papermill": {
     "duration": 0.057207,
     "end_time": "2023-08-03T06:56:21.616563",
     "exception": false,
     "start_time": "2023-08-03T06:56:21.559356",
     "status": "completed"
    },
    "tags": []
   },
   "outputs": [],
   "source": [
    "def basic_eda(df):\n",
    "    print(\"\\n Shape: \")\n",
    "    print(df.shape)\n",
    "    print(\"\\n\\n --------- \")\n",
    "    print(\"\\n Number of null values: \")\n",
    "    print(df.isnull().sum())\n",
    "    print(\"\\n\\n --------- \")\n",
    "    print(\"\\n Value count of age: \")\n",
    "    print(df['age'].value_counts())\n",
    "    print(\"\\n\\n --------- \")\n",
    "    print(\"\\n Value count of ethnicity: \")\n",
    "    print(df['ethnicity'].value_counts())\n",
    "    print(\"\\n\\n --------- \")\n",
    "    print(\"\\n Value count of gender: \")\n",
    "    print(df['gender'].value_counts())"
   ]
  },
  {
   "cell_type": "code",
   "execution_count": 5,
   "id": "de1dff9b",
   "metadata": {
    "execution": {
     "iopub.execute_input": "2023-08-03T06:56:21.714853Z",
     "iopub.status.busy": "2023-08-03T06:56:21.713889Z",
     "iopub.status.idle": "2023-08-03T06:56:21.737519Z",
     "shell.execute_reply": "2023-08-03T06:56:21.738314Z",
     "shell.execute_reply.started": "2023-08-03T06:27:57.223569Z"
    },
    "papermill": {
     "duration": 0.075921,
     "end_time": "2023-08-03T06:56:21.738577",
     "exception": false,
     "start_time": "2023-08-03T06:56:21.662656",
     "status": "completed"
    },
    "tags": []
   },
   "outputs": [
    {
     "name": "stdout",
     "output_type": "stream",
     "text": [
      "\n",
      " Shape: \n",
      "(23705, 4)\n",
      "\n",
      "\n",
      " --------- \n",
      "\n",
      " Number of null values: \n",
      "age          0\n",
      "ethnicity    0\n",
      "gender       0\n",
      "pixels       0\n",
      "dtype: int64\n",
      "\n",
      "\n",
      " --------- \n",
      "\n",
      " Value count of age: \n",
      "26     2197\n",
      "1      1123\n",
      "28      918\n",
      "35      880\n",
      "24      859\n",
      "       ... \n",
      "115       3\n",
      "101       2\n",
      "91        2\n",
      "111       1\n",
      "103       1\n",
      "Name: age, Length: 104, dtype: int64\n",
      "\n",
      "\n",
      " --------- \n",
      "\n",
      " Value count of ethnicity: \n",
      "0    10078\n",
      "1     4526\n",
      "3     3975\n",
      "2     3434\n",
      "4     1692\n",
      "Name: ethnicity, dtype: int64\n",
      "\n",
      "\n",
      " --------- \n",
      "\n",
      " Value count of gender: \n",
      "0    12391\n",
      "1    11314\n",
      "Name: gender, dtype: int64\n"
     ]
    }
   ],
   "source": [
    "basic_eda(df)"
   ]
  },
  {
   "cell_type": "code",
   "execution_count": 6,
   "id": "d5124d98",
   "metadata": {
    "execution": {
     "iopub.execute_input": "2023-08-03T06:56:21.843292Z",
     "iopub.status.busy": "2023-08-03T06:56:21.842541Z",
     "iopub.status.idle": "2023-08-03T06:56:21.846671Z",
     "shell.execute_reply": "2023-08-03T06:56:21.847310Z",
     "shell.execute_reply.started": "2023-08-03T06:27:57.259651Z"
    },
    "papermill": {
     "duration": 0.059324,
     "end_time": "2023-08-03T06:56:21.847521",
     "exception": false,
     "start_time": "2023-08-03T06:56:21.788197",
     "status": "completed"
    },
    "tags": []
   },
   "outputs": [],
   "source": [
    "# Dividing target variables\n",
    "columns = [\"age\", \"gender\", \"ethnicity\"]\n",
    "y = df.drop(\"pixels\", axis=1)\n",
    "X = df.drop(columns, axis=1)"
   ]
  },
  {
   "cell_type": "code",
   "execution_count": 7,
   "id": "06c7b953",
   "metadata": {
    "execution": {
     "iopub.execute_input": "2023-08-03T06:56:21.951799Z",
     "iopub.status.busy": "2023-08-03T06:56:21.950785Z",
     "iopub.status.idle": "2023-08-03T06:56:21.967852Z",
     "shell.execute_reply": "2023-08-03T06:56:21.969190Z",
     "shell.execute_reply.started": "2023-08-03T06:27:57.271779Z"
    },
    "papermill": {
     "duration": 0.072728,
     "end_time": "2023-08-03T06:56:21.969471",
     "exception": false,
     "start_time": "2023-08-03T06:56:21.896743",
     "status": "completed"
    },
    "tags": []
   },
   "outputs": [
    {
     "data": {
      "text/html": [
       "<div>\n",
       "<style scoped>\n",
       "    .dataframe tbody tr th:only-of-type {\n",
       "        vertical-align: middle;\n",
       "    }\n",
       "\n",
       "    .dataframe tbody tr th {\n",
       "        vertical-align: top;\n",
       "    }\n",
       "\n",
       "    .dataframe thead th {\n",
       "        text-align: right;\n",
       "    }\n",
       "</style>\n",
       "<table border=\"1\" class=\"dataframe\">\n",
       "  <thead>\n",
       "    <tr style=\"text-align: right;\">\n",
       "      <th></th>\n",
       "      <th>pixels</th>\n",
       "    </tr>\n",
       "  </thead>\n",
       "  <tbody>\n",
       "    <tr>\n",
       "      <th>0</th>\n",
       "      <td>129 128 128 126 127 130 133 135 139 142 145 14...</td>\n",
       "    </tr>\n",
       "    <tr>\n",
       "      <th>1</th>\n",
       "      <td>164 74 111 168 169 171 175 182 184 188 193 199...</td>\n",
       "    </tr>\n",
       "    <tr>\n",
       "      <th>2</th>\n",
       "      <td>67 70 71 70 69 67 70 79 90 103 116 132 145 155...</td>\n",
       "    </tr>\n",
       "    <tr>\n",
       "      <th>3</th>\n",
       "      <td>193 197 198 200 199 200 202 203 204 205 208 21...</td>\n",
       "    </tr>\n",
       "    <tr>\n",
       "      <th>4</th>\n",
       "      <td>202 205 209 210 209 209 210 211 212 214 218 21...</td>\n",
       "    </tr>\n",
       "  </tbody>\n",
       "</table>\n",
       "</div>"
      ],
      "text/plain": [
       "                                              pixels\n",
       "0  129 128 128 126 127 130 133 135 139 142 145 14...\n",
       "1  164 74 111 168 169 171 175 182 184 188 193 199...\n",
       "2  67 70 71 70 69 67 70 79 90 103 116 132 145 155...\n",
       "3  193 197 198 200 199 200 202 203 204 205 208 21...\n",
       "4  202 205 209 210 209 209 210 211 212 214 218 21..."
      ]
     },
     "execution_count": 7,
     "metadata": {},
     "output_type": "execute_result"
    }
   ],
   "source": [
    "X.head()"
   ]
  },
  {
   "cell_type": "code",
   "execution_count": 8,
   "id": "8a600220",
   "metadata": {
    "execution": {
     "iopub.execute_input": "2023-08-03T06:56:22.121128Z",
     "iopub.status.busy": "2023-08-03T06:56:22.119261Z",
     "iopub.status.idle": "2023-08-03T06:56:22.123723Z",
     "shell.execute_reply": "2023-08-03T06:56:22.123109Z",
     "shell.execute_reply.started": "2023-08-03T06:27:57.289036Z"
    },
    "papermill": {
     "duration": 0.058711,
     "end_time": "2023-08-03T06:56:22.123958",
     "exception": false,
     "start_time": "2023-08-03T06:56:22.065247",
     "status": "completed"
    },
    "tags": []
   },
   "outputs": [
    {
     "data": {
      "text/html": [
       "<div>\n",
       "<style scoped>\n",
       "    .dataframe tbody tr th:only-of-type {\n",
       "        vertical-align: middle;\n",
       "    }\n",
       "\n",
       "    .dataframe tbody tr th {\n",
       "        vertical-align: top;\n",
       "    }\n",
       "\n",
       "    .dataframe thead th {\n",
       "        text-align: right;\n",
       "    }\n",
       "</style>\n",
       "<table border=\"1\" class=\"dataframe\">\n",
       "  <thead>\n",
       "    <tr style=\"text-align: right;\">\n",
       "      <th></th>\n",
       "      <th>age</th>\n",
       "      <th>ethnicity</th>\n",
       "      <th>gender</th>\n",
       "    </tr>\n",
       "  </thead>\n",
       "  <tbody>\n",
       "    <tr>\n",
       "      <th>0</th>\n",
       "      <td>1</td>\n",
       "      <td>2</td>\n",
       "      <td>0</td>\n",
       "    </tr>\n",
       "    <tr>\n",
       "      <th>1</th>\n",
       "      <td>1</td>\n",
       "      <td>2</td>\n",
       "      <td>0</td>\n",
       "    </tr>\n",
       "    <tr>\n",
       "      <th>2</th>\n",
       "      <td>1</td>\n",
       "      <td>2</td>\n",
       "      <td>0</td>\n",
       "    </tr>\n",
       "    <tr>\n",
       "      <th>3</th>\n",
       "      <td>1</td>\n",
       "      <td>2</td>\n",
       "      <td>0</td>\n",
       "    </tr>\n",
       "    <tr>\n",
       "      <th>4</th>\n",
       "      <td>1</td>\n",
       "      <td>2</td>\n",
       "      <td>0</td>\n",
       "    </tr>\n",
       "  </tbody>\n",
       "</table>\n",
       "</div>"
      ],
      "text/plain": [
       "   age  ethnicity  gender\n",
       "0    1          2       0\n",
       "1    1          2       0\n",
       "2    1          2       0\n",
       "3    1          2       0\n",
       "4    1          2       0"
      ]
     },
     "execution_count": 8,
     "metadata": {},
     "output_type": "execute_result"
    }
   ],
   "source": [
    "y.head()"
   ]
  },
  {
   "cell_type": "code",
   "execution_count": 9,
   "id": "64b2819b",
   "metadata": {
    "execution": {
     "iopub.execute_input": "2023-08-03T06:56:22.220772Z",
     "iopub.status.busy": "2023-08-03T06:56:22.219637Z",
     "iopub.status.idle": "2023-08-03T06:56:22.227854Z",
     "shell.execute_reply": "2023-08-03T06:56:22.228367Z",
     "shell.execute_reply.started": "2023-08-03T06:27:57.305431Z"
    },
    "papermill": {
     "duration": 0.059296,
     "end_time": "2023-08-03T06:56:22.228527",
     "exception": false,
     "start_time": "2023-08-03T06:56:22.169231",
     "status": "completed"
    },
    "tags": []
   },
   "outputs": [
    {
     "data": {
      "text/plain": [
       "age          104\n",
       "ethnicity      5\n",
       "gender         2\n",
       "dtype: int64"
      ]
     },
     "execution_count": 9,
     "metadata": {},
     "output_type": "execute_result"
    }
   ],
   "source": [
    "y.nunique()"
   ]
  },
  {
   "cell_type": "markdown",
   "id": "df226297",
   "metadata": {
    "papermill": {
     "duration": 0.044908,
     "end_time": "2023-08-03T06:56:22.319357",
     "exception": false,
     "start_time": "2023-08-03T06:56:22.274449",
     "status": "completed"
    },
    "tags": []
   },
   "source": [
    "## Data distributio with visualization"
   ]
  },
  {
   "cell_type": "code",
   "execution_count": 10,
   "id": "56bb6814",
   "metadata": {
    "execution": {
     "iopub.execute_input": "2023-08-03T06:56:22.421839Z",
     "iopub.status.busy": "2023-08-03T06:56:22.420744Z",
     "iopub.status.idle": "2023-08-03T06:56:26.228597Z",
     "shell.execute_reply": "2023-08-03T06:56:26.229149Z",
     "shell.execute_reply.started": "2023-08-03T06:27:57.332108Z"
    },
    "papermill": {
     "duration": 3.862899,
     "end_time": "2023-08-03T06:56:26.229331",
     "exception": false,
     "start_time": "2023-08-03T06:56:22.366432",
     "status": "completed"
    },
    "tags": []
   },
   "outputs": [
    {
     "data": {
      "image/png": "[encoded data removed]",
      "text/plain": [
       "<Figure size 1080x504 with 1 Axes>"
      ]
     },
     "metadata": {},
     "output_type": "display_data"
    },
    {
     "data": {
      "image/png": "[encoded data removed]",
      "text/plain": [
       "<Figure size 1080x504 with 1 Axes>"
      ]
     },
     "metadata": {},
     "output_type": "display_data"
    },
    {
     "data": {
      "image/png": "[encoded data removed]",
      "text/plain": [
       "<Figure size 1080x504 with 1 Axes>"
      ]
     },
     "metadata": {},
     "output_type": "display_data"
    }
   ],
   "source": [
    "for i in y.columns:\n",
    "    plt.figure(figsize=(15,7))\n",
    "    g = sns.countplot(y[i], palette=\"icefire\")\n",
    "    plt.title(\"Number of {}\".format(i))"
   ]
  },
  {
   "cell_type": "code",
   "execution_count": 11,
   "id": "0a8566db",
   "metadata": {
    "execution": {
     "iopub.execute_input": "2023-08-03T06:56:26.337219Z",
     "iopub.status.busy": "2023-08-03T06:56:26.334232Z",
     "iopub.status.idle": "2023-08-03T06:56:26.636344Z",
     "shell.execute_reply": "2023-08-03T06:56:26.636876Z",
     "shell.execute_reply.started": "2023-08-03T06:28:01.215361Z"
    },
    "papermill": {
     "duration": 0.357464,
     "end_time": "2023-08-03T06:56:26.637220",
     "exception": false,
     "start_time": "2023-08-03T06:56:26.279756",
     "status": "completed"
    },
    "tags": []
   },
   "outputs": [
    {
     "data": {
      "text/plain": [
       "Text(0.5, 1.0, 'Number of age')"
      ]
     },
     "execution_count": 11,
     "metadata": {},
     "output_type": "execute_result"
    },
    {
     "data": {
      "image/png": "[encoded data removed]",
      "text/plain": [
       "<Figure size 1080x504 with 1 Axes>"
      ]
     },
     "metadata": {},
     "output_type": "display_data"
    }
   ],
   "source": [
    "y[\"age\"] = pd.cut(y[\"age\"],bins=[0,3,18,45,64,116],labels=[\"0\",\"1\",\"2\",\"3\",\"4\"])\n",
    "plt.figure(figsize=(15,7))\n",
    "g = sns.countplot(y[\"age\"], palette=\"icefire\")\n",
    "plt.title(\"Number of age\")"
   ]
  },
  {
   "cell_type": "markdown",
   "id": "5bccb129",
   "metadata": {
    "papermill": {
     "duration": 0.05229,
     "end_time": "2023-08-03T06:56:26.743541",
     "exception": false,
     "start_time": "2023-08-03T06:56:26.691251",
     "status": "completed"
    },
    "tags": []
   },
   "source": [
    "## Image shape"
   ]
  },
  {
   "cell_type": "code",
   "execution_count": 12,
   "id": "cbc7bdb0",
   "metadata": {
    "execution": {
     "iopub.execute_input": "2023-08-03T06:56:26.852492Z",
     "iopub.status.busy": "2023-08-03T06:56:26.851572Z",
     "iopub.status.idle": "2023-08-03T06:56:26.855405Z",
     "shell.execute_reply": "2023-08-03T06:56:26.855948Z",
     "shell.execute_reply.started": "2023-08-03T06:28:01.531099Z"
    },
    "papermill": {
     "duration": 0.062816,
     "end_time": "2023-08-03T06:56:26.856135",
     "exception": false,
     "start_time": "2023-08-03T06:56:26.793319",
     "status": "completed"
    },
    "tags": []
   },
   "outputs": [
    {
     "name": "stdout",
     "output_type": "stream",
     "text": [
      "2304 48 48\n"
     ]
    }
   ],
   "source": [
    "num_pixels = len(X['pixels'][0].split(\" \"))\n",
    "img_height = int(np.sqrt(len(X['pixels'][0].split(\" \"))))\n",
    "img_width = int(np.sqrt(len(X['pixels'][0].split(\" \"))))\n",
    "print(num_pixels, img_height, img_width)\n"
   ]
  },
  {
   "cell_type": "markdown",
   "id": "b6e59a5b",
   "metadata": {
    "papermill": {
     "duration": 0.050831,
     "end_time": "2023-08-03T06:56:26.962482",
     "exception": false,
     "start_time": "2023-08-03T06:56:26.911651",
     "status": "completed"
    },
    "tags": []
   },
   "source": [
    "## Reshape data"
   ]
  },
  {
   "cell_type": "code",
   "execution_count": 13,
   "id": "6c715496",
   "metadata": {
    "execution": {
     "iopub.execute_input": "2023-08-03T06:56:27.092187Z",
     "iopub.status.busy": "2023-08-03T06:56:27.086712Z",
     "iopub.status.idle": "2023-08-03T06:57:05.139251Z",
     "shell.execute_reply": "2023-08-03T06:57:05.139807Z",
     "shell.execute_reply.started": "2023-08-03T06:28:01.543492Z"
    },
    "papermill": {
     "duration": 38.127972,
     "end_time": "2023-08-03T06:57:05.139980",
     "exception": false,
     "start_time": "2023-08-03T06:56:27.012008",
     "status": "completed"
    },
    "tags": []
   },
   "outputs": [
    {
     "name": "stdout",
     "output_type": "stream",
     "text": [
      "X shape:  (23705, 48, 48, 1)\n"
     ]
    }
   ],
   "source": [
    "X = pd.Series(X['pixels'])\n",
    "X = X.apply(lambda x:x.split(' '))\n",
    "X = X.apply(lambda x:np.array(list(map(lambda z:np.int(z), x))))\n",
    "X = np.array(X)\n",
    "X = np.stack(np.array(X), axis=0)\n",
    "\n",
    "# reshape data\n",
    "X = X.reshape(-1, 48, 48, 1)\n",
    "print(\"X shape: \", X.shape)"
   ]
  },
  {
   "cell_type": "markdown",
   "id": "90e8cbd4",
   "metadata": {
    "papermill": {
     "duration": 0.052942,
     "end_time": "2023-08-03T06:57:05.247454",
     "exception": false,
     "start_time": "2023-08-03T06:57:05.194512",
     "status": "completed"
    },
    "tags": []
   },
   "source": [
    "## Image Overview"
   ]
  },
  {
   "cell_type": "code",
   "execution_count": 14,
   "id": "e5107962",
   "metadata": {
    "execution": {
     "iopub.execute_input": "2023-08-03T06:57:05.357081Z",
     "iopub.status.busy": "2023-08-03T06:57:05.356052Z",
     "iopub.status.idle": "2023-08-03T06:57:06.768304Z",
     "shell.execute_reply": "2023-08-03T06:57:06.768805Z",
     "shell.execute_reply.started": "2023-08-03T06:28:40.882005Z"
    },
    "papermill": {
     "duration": 1.47016,
     "end_time": "2023-08-03T06:57:06.768973",
     "exception": false,
     "start_time": "2023-08-03T06:57:05.298813",
     "status": "completed"
    },
    "tags": []
   },
   "outputs": [
    {
     "data": {
      "image/png": "[encoded data removed]",
      "text/plain": [
       "<Figure size 1152x1152 with 25 Axes>"
      ]
     },
     "metadata": {},
     "output_type": "display_data"
    }
   ],
   "source": [
    "plt.figure(figsize=(16,16))\n",
    "for i,a in zip(np.random.randint(0, 23705, 25), range(1,26)):\n",
    "    plt.subplot(5,5,a)\n",
    "    plt.xticks([])\n",
    "    plt.yticks([])\n",
    "    plt.grid(False)\n",
    "    plt.imshow(X[i])\n",
    "    plt.xlabel(\n",
    "    \"Age: \"+str(y['age'].iloc[i])+\n",
    "    \" Ethnicity:\"+str(y['ethnicity'].iloc[i])+\n",
    "    \" Gender:\"+str(y['gender'].iloc[i]))\n",
    "plt.show()"
   ]
  },
  {
   "cell_type": "markdown",
   "id": "f901a971",
   "metadata": {
    "papermill": {
     "duration": 0.058982,
     "end_time": "2023-08-03T06:57:06.886324",
     "exception": false,
     "start_time": "2023-08-03T06:57:06.827342",
     "status": "completed"
    },
    "tags": []
   },
   "source": [
    "## Building Neural Networks for AGE, GENDER AND ETHNICITY"
   ]
  },
  {
   "cell_type": "code",
   "execution_count": 15,
   "id": "0a98267a",
   "metadata": {
    "execution": {
     "iopub.execute_input": "2023-08-03T06:57:07.012456Z",
     "iopub.status.busy": "2023-08-03T06:57:07.011553Z",
     "iopub.status.idle": "2023-08-03T06:57:15.613754Z",
     "shell.execute_reply": "2023-08-03T06:57:15.612696Z",
     "shell.execute_reply.started": "2023-08-03T06:28:42.351368Z"
    },
    "papermill": {
     "duration": 8.667781,
     "end_time": "2023-08-03T06:57:15.613915",
     "exception": false,
     "start_time": "2023-08-03T06:57:06.946134",
     "status": "completed"
    },
    "tags": []
   },
   "outputs": [],
   "source": [
    "from sklearn.metrics import confusion_matrix\n",
    "import itertools\n",
    "import tensorflow as tf\n",
    "import plotly.express as px\n",
    "from tensorflow.keras.preprocessing.image import ImageDataGenerator\n",
    "from tensorflow.keras.utils import to_categorical # convert to one-hot-encoding\n",
    "from tensorflow.keras.models import Sequential\n",
    "from tensorflow.keras.layers import Dense, Dropout, Flatten, Conv2D, MaxPool2D, BatchNormalization, InputLayer\n",
    "from tensorflow.keras.optimizers import RMSprop,Adam\n",
    "from tensorflow.keras.preprocessing.image import ImageDataGenerator\n",
    "from tensorflow.keras.callbacks import ReduceLROnPlateau, EarlyStopping\n",
    "from tensorflow.keras.losses import BinaryCrossentropy, SparseCategoricalCrossentropy"
   ]
  },
  {
   "cell_type": "markdown",
   "id": "cdeaa9b8",
   "metadata": {
    "papermill": {
     "duration": 0.06104,
     "end_time": "2023-08-03T06:57:15.735796",
     "exception": false,
     "start_time": "2023-08-03T06:57:15.674756",
     "status": "completed"
    },
    "tags": []
   },
   "source": [
    "## Categorizing target values"
   ]
  },
  {
   "cell_type": "code",
   "execution_count": 16,
   "id": "52f62927",
   "metadata": {
    "execution": {
     "iopub.execute_input": "2023-08-03T06:57:15.957445Z",
     "iopub.status.busy": "2023-08-03T06:57:15.956299Z",
     "iopub.status.idle": "2023-08-03T06:57:15.968856Z",
     "shell.execute_reply": "2023-08-03T06:57:15.969771Z",
     "shell.execute_reply.started": "2023-08-03T06:28:51.829651Z"
    },
    "papermill": {
     "duration": 0.143796,
     "end_time": "2023-08-03T06:57:15.969988",
     "exception": false,
     "start_time": "2023-08-03T06:57:15.826192",
     "status": "completed"
    },
    "tags": []
   },
   "outputs": [
    {
     "name": "stdout",
     "output_type": "stream",
     "text": [
      "[[1. 0. 0. 0. 0.]\n",
      " [1. 0. 0. 0. 0.]\n",
      " [1. 0. 0. 0. 0.]\n",
      " ...\n",
      " [0. 0. 0. 0. 1.]\n",
      " [0. 0. 0. 0. 1.]\n",
      " [0. 0. 0. 0. 1.]] [[1. 0.]\n",
      " [1. 0.]\n",
      " [1. 0.]\n",
      " ...\n",
      " [0. 1.]\n",
      " [0. 1.]\n",
      " [0. 1.]] [[0. 0. 1. 0. 0.]\n",
      " [0. 0. 1. 0. 0.]\n",
      " [0. 0. 1. 0. 0.]\n",
      " ...\n",
      " [0. 0. 1. 0. 0.]\n",
      " [0. 0. 1. 0. 0.]\n",
      " [1. 0. 0. 0. 0.]]\n"
     ]
    }
   ],
   "source": [
    "age_matrix = np.array(y['age'])\n",
    "gender_matrix = np.array(y['gender'])\n",
    "ethnicity_matrix = np.array(y['ethnicity'])\n",
    "age = to_categorical(age_matrix, num_classes = 5)\n",
    "gender = to_categorical(y[\"gender\"], num_classes = 2)\n",
    "ethnicity = to_categorical(ethnicity_matrix, num_classes = 5)\n",
    "print(age, gender, ethnicity)"
   ]
  },
  {
   "cell_type": "markdown",
   "id": "7a219b64",
   "metadata": {
    "papermill": {
     "duration": 0.091866,
     "end_time": "2023-08-03T06:57:16.158159",
     "exception": false,
     "start_time": "2023-08-03T06:57:16.066293",
     "status": "completed"
    },
    "tags": []
   },
   "source": [
    "##  Normalize the data"
   ]
  },
  {
   "cell_type": "code",
   "execution_count": 17,
   "id": "289f8dbd",
   "metadata": {
    "execution": {
     "iopub.execute_input": "2023-08-03T06:57:16.348813Z",
     "iopub.status.busy": "2023-08-03T06:57:16.347658Z",
     "iopub.status.idle": "2023-08-03T06:57:16.710587Z",
     "shell.execute_reply": "2023-08-03T06:57:16.711307Z",
     "shell.execute_reply.started": "2023-08-03T06:28:51.850075Z"
    },
    "papermill": {
     "duration": 0.462865,
     "end_time": "2023-08-03T06:57:16.711552",
     "exception": false,
     "start_time": "2023-08-03T06:57:16.248687",
     "status": "completed"
    },
    "tags": []
   },
   "outputs": [],
   "source": [
    "X = X / 255\n",
    "X = X / 255"
   ]
  },
  {
   "cell_type": "markdown",
   "id": "f76b63e3",
   "metadata": {
    "papermill": {
     "duration": 0.090415,
     "end_time": "2023-08-03T06:57:16.888567",
     "exception": false,
     "start_time": "2023-08-03T06:57:16.798152",
     "status": "completed"
    },
    "tags": []
   },
   "source": [
    "## Image Data Generator"
   ]
  },
  {
   "cell_type": "code",
   "execution_count": 18,
   "id": "a0265296",
   "metadata": {
    "execution": {
     "iopub.execute_input": "2023-08-03T06:57:17.076081Z",
     "iopub.status.busy": "2023-08-03T06:57:17.075171Z",
     "iopub.status.idle": "2023-08-03T06:57:17.226708Z",
     "shell.execute_reply": "2023-08-03T06:57:17.228050Z",
     "shell.execute_reply.started": "2023-08-03T06:28:52.186603Z"
    },
    "papermill": {
     "duration": 0.253603,
     "end_time": "2023-08-03T06:57:17.228284",
     "exception": false,
     "start_time": "2023-08-03T06:57:16.974681",
     "status": "completed"
    },
    "tags": []
   },
   "outputs": [],
   "source": [
    "datagen = ImageDataGenerator(\n",
    "        featurewise_center = False,\n",
    "    # set input mean to 0 over the dataset\n",
    "       samplewise_center = False,\n",
    "    # set each sample mean to 0 \n",
    "       featurewise_std_normalization = False,\n",
    "    # divide inputs by std of the dataset\n",
    "       samplewise_std_normalization=False,  \n",
    "    # divide each input by its std\n",
    "       zca_whitening=False,\n",
    "    # dimesion reduction\n",
    "       rotation_range=5, \n",
    "    # randomly rotate images in the range 5 degrees\n",
    "       zoom_range = 0.1,\n",
    "    # Randomly zoom image 10%\n",
    "       width_shift_range=0.1, \n",
    "    # randomly shift images horizontally 10%\n",
    "       height_shift_range=0.1,  \n",
    "    # randomly shift images vertically 10%\n",
    "       horizontal_flip=False,  \n",
    "    # randomly flip images\n",
    "        vertical_flip=False  # randomly flip images\n",
    ")\n",
    "\n",
    "datagen.fit(X)"
   ]
  },
  {
   "cell_type": "markdown",
   "id": "d044092e",
   "metadata": {
    "papermill": {
     "duration": 0.062073,
     "end_time": "2023-08-03T06:57:17.369955",
     "exception": false,
     "start_time": "2023-08-03T06:57:17.307882",
     "status": "completed"
    },
    "tags": []
   },
   "source": [
    "## Train Test Split"
   ]
  },
  {
   "cell_type": "code",
   "execution_count": 19,
   "id": "5c8bc9dd",
   "metadata": {
    "execution": {
     "iopub.execute_input": "2023-08-03T06:57:17.500233Z",
     "iopub.status.busy": "2023-08-03T06:57:17.498645Z",
     "iopub.status.idle": "2023-08-03T06:57:17.871112Z",
     "shell.execute_reply": "2023-08-03T06:57:17.870277Z",
     "shell.execute_reply.started": "2023-08-03T06:28:52.343489Z"
    },
    "papermill": {
     "duration": 0.441749,
     "end_time": "2023-08-03T06:57:17.871271",
     "exception": false,
     "start_time": "2023-08-03T06:57:17.429522",
     "status": "completed"
    },
    "tags": []
   },
   "outputs": [],
   "source": [
    "# Ethnicity\n",
    "from sklearn.model_selection import train_test_split\n",
    "X_train_ethnicity, X_test_ethnicity, y_train_ethnicity, y_test_ethnicity = train_test_split(X,ethnicity, test_size=0.3, random_state=42)\n",
    "\n",
    "# Gender\n",
    "X_train_gender, X_test_gender, y_train_gender, y_test_gender = train_test_split(X, gender, test_size=0.3, random_state=42)\n",
    "\n",
    "# Age\n",
    "X_train_age, X_test_age, y_train_age, y_test_age = train_test_split(X, age, test_size=0.3, random_state=42)"
   ]
  },
  {
   "cell_type": "code",
   "execution_count": 20,
   "id": "53765b7b",
   "metadata": {
    "execution": {
     "iopub.execute_input": "2023-08-03T06:57:17.994799Z",
     "iopub.status.busy": "2023-08-03T06:57:17.992100Z",
     "iopub.status.idle": "2023-08-03T06:57:17.997313Z",
     "shell.execute_reply": "2023-08-03T06:57:17.997889Z",
     "shell.execute_reply.started": "2023-08-03T06:28:52.794535Z"
    },
    "papermill": {
     "duration": 0.066452,
     "end_time": "2023-08-03T06:57:17.998059",
     "exception": false,
     "start_time": "2023-08-03T06:57:17.931607",
     "status": "completed"
    },
    "tags": []
   },
   "outputs": [
    {
     "name": "stdout",
     "output_type": "stream",
     "text": [
      "(16593, 48, 48, 1) (16593, 48, 48, 1) (16593, 48, 48, 1)\n"
     ]
    }
   ],
   "source": [
    "print(X_train_ethnicity.shape, X_train_gender.shape, X_train_age.shape)"
   ]
  },
  {
   "cell_type": "markdown",
   "id": "4fbdf452",
   "metadata": {
    "papermill": {
     "duration": 0.058894,
     "end_time": "2023-08-03T06:57:18.116304",
     "exception": false,
     "start_time": "2023-08-03T06:57:18.057410",
     "status": "completed"
    },
    "tags": []
   },
   "source": [
    "## Building CNN Model"
   ]
  },
  {
   "cell_type": "code",
   "execution_count": 21,
   "id": "6a296c96",
   "metadata": {
    "execution": {
     "iopub.execute_input": "2023-08-03T06:57:18.252681Z",
     "iopub.status.busy": "2023-08-03T06:57:18.251638Z",
     "iopub.status.idle": "2023-08-03T06:57:18.253920Z",
     "shell.execute_reply": "2023-08-03T06:57:18.254403Z",
     "shell.execute_reply.started": "2023-08-03T06:28:52.802955Z"
    },
    "papermill": {
     "duration": 0.073373,
     "end_time": "2023-08-03T06:57:18.254570",
     "exception": false,
     "start_time": "2023-08-03T06:57:18.181197",
     "status": "completed"
    },
    "tags": []
   },
   "outputs": [],
   "source": [
    "def my_model(num_classes, activation, loss):\n",
    "    model = Sequential()\n",
    "    model.add(Conv2D(32, kernel_size=(3, 3), activation='relu', padding = \"same\", input_shape=(48,48,1)))\n",
    "    model.add(BatchNormalization())\n",
    "    model.add(MaxPool2D(pool_size=(2,2)))\n",
    "    model.add(Dropout(0.2))\n",
    "    model.add(Conv2D(64, kernel_size=(3,3),activation=\"relu\",padding=\"same\"))\n",
    "    model.add(BatchNormalization())\n",
    "    model.add(MaxPool2D(pool_size=(2,2)))\n",
    "    model.add(Dropout(0.2))\n",
    "    model.add(Conv2D(64, kernel_size=(3,3),activation=\"relu\",padding=\"same\"))\n",
    "    model.add(BatchNormalization())\n",
    "    model.add(MaxPool2D(pool_size=(2,2)))\n",
    "    model.add(Dropout(0.2))\n",
    "    model.add(Flatten())\n",
    "    model.add(Dense(256,activation=\"relu\"))\n",
    "    model.add(Dense(num_classes, activation=activation))\n",
    "    \n",
    "    model.compile(optimizer='Adam',\n",
    "              loss= loss,\n",
    "              metrics=['accuracy'])\n",
    "    return model"
   ]
  },
  {
   "cell_type": "markdown",
   "id": "073e3b24",
   "metadata": {
    "papermill": {
     "duration": 0.061311,
     "end_time": "2023-08-03T06:57:18.375752",
     "exception": false,
     "start_time": "2023-08-03T06:57:18.314441",
     "status": "completed"
    },
    "tags": []
   },
   "source": [
    "## Callbacks"
   ]
  },
  {
   "cell_type": "code",
   "execution_count": 22,
   "id": "202fe6ea",
   "metadata": {
    "execution": {
     "iopub.execute_input": "2023-08-03T06:57:18.506699Z",
     "iopub.status.busy": "2023-08-03T06:57:18.504098Z",
     "iopub.status.idle": "2023-08-03T06:57:18.509690Z",
     "shell.execute_reply": "2023-08-03T06:57:18.510233Z",
     "shell.execute_reply.started": "2023-08-03T06:28:52.819508Z"
    },
    "papermill": {
     "duration": 0.072281,
     "end_time": "2023-08-03T06:57:18.510411",
     "exception": false,
     "start_time": "2023-08-03T06:57:18.438130",
     "status": "completed"
    },
    "tags": []
   },
   "outputs": [],
   "source": [
    "early_stopping = EarlyStopping(patience=10, \n",
    "                               min_delta=0.001,\n",
    "                               restore_best_weights=True)\n",
    "\n",
    "learning_rate_reduction = ReduceLROnPlateau(monitor='val_acc', \n",
    "                                           patience = 2,\n",
    "                                           verbose=1,\n",
    "                                           factor=0.5,\n",
    "                                           min_lr = 0.00001)"
   ]
  },
  {
   "cell_type": "markdown",
   "id": "c87dea44",
   "metadata": {
    "papermill": {
     "duration": 0.060292,
     "end_time": "2023-08-03T06:57:18.632233",
     "exception": false,
     "start_time": "2023-08-03T06:57:18.571941",
     "status": "completed"
    },
    "tags": []
   },
   "source": [
    "# Ethnicity Prediction"
   ]
  },
  {
   "cell_type": "code",
   "execution_count": 23,
   "id": "bb8f9b02",
   "metadata": {
    "execution": {
     "iopub.execute_input": "2023-08-03T06:57:18.767465Z",
     "iopub.status.busy": "2023-08-03T06:57:18.766611Z",
     "iopub.status.idle": "2023-08-03T06:58:02.350277Z",
     "shell.execute_reply": "2023-08-03T06:58:02.349625Z",
     "shell.execute_reply.started": "2023-08-03T06:28:52.841865Z"
    },
    "papermill": {
     "duration": 43.655766,
     "end_time": "2023-08-03T06:58:02.350451",
     "exception": false,
     "start_time": "2023-08-03T06:57:18.694685",
     "status": "completed"
    },
    "tags": []
   },
   "outputs": [
    {
     "name": "stdout",
     "output_type": "stream",
     "text": [
      "Epoch 1/500\n",
      "259/259 [==============================] - 10s 10ms/step - loss: 1.1878 - accuracy: 0.5641 - val_loss: 1.6502 - val_accuracy: 0.1436\n",
      "Epoch 2/500\n",
      "259/259 [==============================] - 2s 8ms/step - loss: 0.8756 - accuracy: 0.6828 - val_loss: 1.9672 - val_accuracy: 0.4318\n",
      "Epoch 3/500\n",
      "259/259 [==============================] - 2s 9ms/step - loss: 0.7751 - accuracy: 0.7261 - val_loss: 2.0393 - val_accuracy: 0.5006\n",
      "Epoch 4/500\n",
      "259/259 [==============================] - 2s 8ms/step - loss: 0.7183 - accuracy: 0.7448 - val_loss: 0.7756 - val_accuracy: 0.7250\n",
      "Epoch 5/500\n",
      "259/259 [==============================] - 2s 8ms/step - loss: 0.6721 - accuracy: 0.7615 - val_loss: 0.7232 - val_accuracy: 0.7428\n",
      "Epoch 6/500\n",
      "259/259 [==============================] - 2s 8ms/step - loss: 0.6285 - accuracy: 0.7742 - val_loss: 0.8058 - val_accuracy: 0.7163\n",
      "Epoch 7/500\n",
      "259/259 [==============================] - 2s 8ms/step - loss: 0.5969 - accuracy: 0.7844 - val_loss: 2.9733 - val_accuracy: 0.4727\n",
      "Epoch 8/500\n",
      "259/259 [==============================] - 2s 8ms/step - loss: 0.5559 - accuracy: 0.8007 - val_loss: 0.8831 - val_accuracy: 0.7043\n",
      "Epoch 9/500\n",
      "259/259 [==============================] - 2s 9ms/step - loss: 0.5117 - accuracy: 0.8166 - val_loss: 0.9166 - val_accuracy: 0.7085\n",
      "Epoch 10/500\n",
      "259/259 [==============================] - 2s 8ms/step - loss: 0.4795 - accuracy: 0.8264 - val_loss: 0.7618 - val_accuracy: 0.7605\n",
      "Epoch 11/500\n",
      "259/259 [==============================] - 2s 8ms/step - loss: 0.4376 - accuracy: 0.8404 - val_loss: 0.8893 - val_accuracy: 0.7340\n",
      "Epoch 12/500\n",
      "259/259 [==============================] - 2s 8ms/step - loss: 0.3967 - accuracy: 0.8584 - val_loss: 0.7701 - val_accuracy: 0.7587\n",
      "Epoch 13/500\n",
      "259/259 [==============================] - 2s 8ms/step - loss: 0.3732 - accuracy: 0.8653 - val_loss: 0.9598 - val_accuracy: 0.7181\n",
      "Epoch 14/500\n",
      "259/259 [==============================] - 2s 8ms/step - loss: 0.3292 - accuracy: 0.8808 - val_loss: 1.2279 - val_accuracy: 0.6760\n",
      "Epoch 15/500\n",
      "259/259 [==============================] - 2s 8ms/step - loss: 0.3077 - accuracy: 0.8885 - val_loss: 1.0041 - val_accuracy: 0.7302\n"
     ]
    }
   ],
   "source": [
    "epochs = 500  # for better result increase the epochs\n",
    "batch_size = 64\n",
    "model_ethnicity = my_model(5,\"softmax\",'categorical_crossentropy')\n",
    "history_ethnicity = model_ethnicity.fit(X_train_ethnicity, y_train_ethnicity, batch_size=batch_size,\n",
    "                              epochs = epochs, validation_data = (X_test_ethnicity,y_test_ethnicity), steps_per_epoch= X_train_ethnicity.shape[0] // batch_size, callbacks= [early_stopping, learning_rate_reduction])"
   ]
  },
  {
   "cell_type": "code",
   "execution_count": 24,
   "id": "9aa8bcf1",
   "metadata": {
    "execution": {
     "iopub.execute_input": "2023-08-03T06:58:02.847199Z",
     "iopub.status.busy": "2023-08-03T06:58:02.846359Z",
     "iopub.status.idle": "2023-08-03T06:58:04.160995Z",
     "shell.execute_reply": "2023-08-03T06:58:04.160355Z",
     "shell.execute_reply.started": "2023-08-03T06:36:00.388680Z"
    },
    "papermill": {
     "duration": 1.561102,
     "end_time": "2023-08-03T06:58:04.161154",
     "exception": false,
     "start_time": "2023-08-03T06:58:02.600052",
     "status": "completed"
    },
    "tags": []
   },
   "outputs": [
    {
     "data": {
      "text/html": [
       "        <script type=\"text/javascript\">\n",
       "        window.PlotlyConfig = {MathJaxConfig: 'local'};\n",
       "        if (window.MathJax) {MathJax.Hub.Config({SVG: {font: \"STIX-Web\"}});}\n",
       "        if (typeof require !== 'undefined') {\n",
       "        require.undef(\"plotly\");\n",
       "        requirejs.config({\n",
       "            paths: {\n",
       "                'plotly': ['https://cdn.plot.ly/plotly-2.6.3.min']\n",
       "            }\n",
       "        });\n",
       "        require(['plotly'], function(Plotly) {\n",
       "            window._Plotly = Plotly;\n",
       "        });\n",
       "        }\n",
       "        </script>\n",
       "        "
      ]
     },
     "metadata": {},
     "output_type": "display_data"
    }
   ],
   "source": [
    "import plotly.graph_objects as go\n",
    "from plotly.offline import init_notebook_mode\n",
    "init_notebook_mode(connected=True)"
   ]
  },
  {
   "cell_type": "markdown",
   "id": "dcc5bdff",
   "metadata": {
    "papermill": {
     "duration": 0.240695,
     "end_time": "2023-08-03T06:58:04.645551",
     "exception": false,
     "start_time": "2023-08-03T06:58:04.404856",
     "status": "completed"
    },
    "tags": []
   },
   "source": [
    "### Plotting model performance"
   ]
  },
  {
   "cell_type": "code",
   "execution_count": 25,
   "id": "f14123fb",
   "metadata": {
    "execution": {
     "iopub.execute_input": "2023-08-03T06:58:05.135571Z",
     "iopub.status.busy": "2023-08-03T06:58:05.134693Z",
     "iopub.status.idle": "2023-08-03T06:58:06.248884Z",
     "shell.execute_reply": "2023-08-03T06:58:06.249487Z",
     "shell.execute_reply.started": "2023-08-03T06:36:16.638006Z"
    },
    "papermill": {
     "duration": 1.364726,
     "end_time": "2023-08-03T06:58:06.249677",
     "exception": false,
     "start_time": "2023-08-03T06:58:04.884951",
     "status": "completed"
    },
    "tags": []
   },
   "outputs": [
    {
     "data": {
      "application/vnd.plotly.v1+json": {
       "config": {
        "plotlyServerURL": "https://plot.ly"
       },
       "data": [
        {
         "hovertemplate": "variable=loss<br>epoch=%{x}<br>loss=%{y}<extra></extra>",
         "legendgroup": "loss",
         "line": {
          "color": "#636efa",
          "dash": "solid"
         },
         "marker": {
          "symbol": "circle"
         },
         "mode": "lines",
         "name": "loss",
         "orientation": "v",
         "showlegend": true,
         "type": "scatter",
         "x": [
          0,
          1,
          2,
          3,
          4,
          5,
          6,
          7,
          8,
          9,
          10,
          11,
          12,
          13,
          14
         ],
         "xaxis": "x",
         "y": [
          1.1878207921981812,
          0.8756456971168518,
          0.7751421332359314,
          0.718319833278656,
          0.6720850467681885,
          0.6284782886505127,
          0.5969042778015137,
          0.5558790564537048,
          0.5117449760437012,
          0.4795394837856293,
          0.43758493661880493,
          0.3967382609844208,
          0.3731568157672882,
          0.3292447328567505,
          0.3076569139957428
         ],
         "yaxis": "y"
        },
        {
         "hovertemplate": "variable=val_loss<br>epoch=%{x}<br>loss=%{y}<extra></extra>",
         "legendgroup": "val_loss",
         "line": {
          "color": "#EF553B",
          "dash": "solid"
         },
         "marker": {
          "symbol": "circle"
         },
         "mode": "lines",
         "name": "val_loss",
         "orientation": "v",
         "showlegend": true,
         "type": "scatter",
         "x": [
          0,
          1,
          2,
          3,
          4,
          5,
          6,
          7,
          8,
          9,
          10,
          11,
          12,
          13,
          14
         ],
         "xaxis": "x",
         "y": [
          1.6501706838607788,
          1.9671657085418701,
          2.0392990112304688,
          0.7755831480026245,
          0.723249614238739,
          0.8058115243911743,
          2.9732728004455566,
          0.8831230998039246,
          0.9165711998939514,
          0.7618280053138733,
          0.88934326171875,
          0.7701125144958496,
          0.9598401188850403,
          1.2278718948364258,
          1.004135012626648
         ],
         "yaxis": "y"
        }
       ],
       "layout": {
        "legend": {
         "title": {
          "text": "variable"
         },
         "tracegroupgap": 0
        },
        "template": {
         "data": {
          "bar": [
           {
            "error_x": {
             "color": "#2a3f5f"
            },
            "error_y": {
             "color": "#2a3f5f"
            },
            "marker": {
             "line": {
              "color": "#E5ECF6",
              "width": 0.5
             },
             "pattern": {
              "fillmode": "overlay",
              "size": 10,
              "solidity": 0.2
             }
            },
            "type": "bar"
           }
          ],
          "barpolar": [
           {
            "marker": {
             "line": {
              "color": "#E5ECF6",
              "width": 0.5
             },
             "pattern": {
              "fillmode": "overlay",
              "size": 10,
              "solidity": 0.2
             }
            },
            "type": "barpolar"
           }
          ],
          "carpet": [
           {
            "aaxis": {
             "endlinecolor": "#2a3f5f",
             "gridcolor": "white",
             "linecolor": "white",
             "minorgridcolor": "white",
             "startlinecolor": "#2a3f5f"
            },
            "baxis": {
             "endlinecolor": "#2a3f5f",
             "gridcolor": "white",
             "linecolor": "white",
             "minorgridcolor": "white",
             "startlinecolor": "#2a3f5f"
            },
            "type": "carpet"
           }
          ],
          "choropleth": [
           {
            "colorbar": {
             "outlinewidth": 0,
             "ticks": ""
            },
            "type": "choropleth"
           }
          ],
          "contour": [
           {
            "colorbar": {
             "outlinewidth": 0,
             "ticks": ""
            },
            "colorscale": [
             [
              0,
              "#0d0887"
             ],
             [
              0.1111111111111111,
              "#46039f"
             ],
             [
              0.2222222222222222,
              "#7201a8"
             ],
             [
              0.3333333333333333,
              "#9c179e"
             ],
             [
              0.4444444444444444,
              "#bd3786"
             ],
             [
              0.5555555555555556,
              "#d8576b"
             ],
             [
              0.6666666666666666,
              "#ed7953"
             ],
             [
              0.7777777777777778,
              "#fb9f3a"
             ],
             [
              0.8888888888888888,
              "#fdca26"
             ],
             [
              1,
              "#f0f921"
             ]
            ],
            "type": "contour"
           }
          ],
          "contourcarpet": [
           {
            "colorbar": {
             "outlinewidth": 0,
             "ticks": ""
            },
            "type": "contourcarpet"
           }
          ],
          "heatmap": [
           {
            "colorbar": {
             "outlinewidth": 0,
             "ticks": ""
            },
            "colorscale": [
             [
              0,
              "#0d0887"
             ],
             [
              0.1111111111111111,
              "#46039f"
             ],
             [
              0.2222222222222222,
              "#7201a8"
             ],
             [
              0.3333333333333333,
              "#9c179e"
             ],
             [
              0.4444444444444444,
              "#bd3786"
             ],
             [
              0.5555555555555556,
              "#d8576b"
             ],
             [
              0.6666666666666666,
              "#ed7953"
             ],
             [
              0.7777777777777778,
              "#fb9f3a"
             ],
             [
              0.8888888888888888,
              "#fdca26"
             ],
             [
              1,
              "#f0f921"
             ]
            ],
            "type": "heatmap"
           }
          ],
          "heatmapgl": [
           {
            "colorbar": {
             "outlinewidth": 0,
             "ticks": ""
            },
            "colorscale": [
             [
              0,
              "#0d0887"
             ],
             [
              0.1111111111111111,
              "#46039f"
             ],
             [
              0.2222222222222222,
              "#7201a8"
             ],
             [
              0.3333333333333333,
              "#9c179e"
             ],
             [
              0.4444444444444444,
              "#bd3786"
             ],
             [
              0.5555555555555556,
              "#d8576b"
             ],
             [
              0.6666666666666666,
              "#ed7953"
             ],
             [
              0.7777777777777778,
              "#fb9f3a"
             ],
             [
              0.8888888888888888,
              "#fdca26"
             ],
             [
              1,
              "#f0f921"
             ]
            ],
            "type": "heatmapgl"
           }
          ],
          "histogram": [
           {
            "marker": {
             "pattern": {
              "fillmode": "overlay",
              "size": 10,
              "solidity": 0.2
             }
            },
            "type": "histogram"
           }
          ],
          "histogram2d": [
           {
            "colorbar": {
             "outlinewidth": 0,
             "ticks": ""
            },
            "colorscale": [
             [
              0,
              "#0d0887"
             ],
             [
              0.1111111111111111,
              "#46039f"
             ],
             [
              0.2222222222222222,
              "#7201a8"
             ],
             [
              0.3333333333333333,
              "#9c179e"
             ],
             [
              0.4444444444444444,
              "#bd3786"
             ],
             [
              0.5555555555555556,
              "#d8576b"
             ],
             [
              0.6666666666666666,
              "#ed7953"
             ],
             [
              0.7777777777777778,
              "#fb9f3a"
             ],
             [
              0.8888888888888888,
              "#fdca26"
             ],
             [
              1,
              "#f0f921"
             ]
            ],
            "type": "histogram2d"
           }
          ],
          "histogram2dcontour": [
           {
            "colorbar": {
             "outlinewidth": 0,
             "ticks": ""
            },
            "colorscale": [
             [
              0,
              "#0d0887"
             ],
             [
              0.1111111111111111,
              "#46039f"
             ],
             [
              0.2222222222222222,
              "#7201a8"
             ],
             [
              0.3333333333333333,
              "#9c179e"
             ],
             [
              0.4444444444444444,
              "#bd3786"
             ],
             [
              0.5555555555555556,
              "#d8576b"
             ],
             [
              0.6666666666666666,
              "#ed7953"
             ],
             [
              0.7777777777777778,
              "#fb9f3a"
             ],
             [
              0.8888888888888888,
              "#fdca26"
             ],
             [
              1,
              "#f0f921"
             ]
            ],
            "type": "histogram2dcontour"
           }
          ],
          "mesh3d": [
           {
            "colorbar": {
             "outlinewidth": 0,
             "ticks": ""
            },
            "type": "mesh3d"
           }
          ],
          "parcoords": [
           {
            "line": {
             "colorbar": {
              "outlinewidth": 0,
              "ticks": ""
             }
            },
            "type": "parcoords"
           }
          ],
          "pie": [
           {
            "automargin": true,
            "type": "pie"
           }
          ],
          "scatter": [
           {
            "marker": {
             "colorbar": {
              "outlinewidth": 0,
              "ticks": ""
             }
            },
            "type": "scatter"
           }
          ],
          "scatter3d": [
           {
            "line": {
             "colorbar": {
              "outlinewidth": 0,
              "ticks": ""
             }
            },
            "marker": {
             "colorbar": {
              "outlinewidth": 0,
              "ticks": ""
             }
            },
            "type": "scatter3d"
           }
          ],
          "scattercarpet": [
           {
            "marker": {
             "colorbar": {
              "outlinewidth": 0,
              "ticks": ""
             }
            },
            "type": "scattercarpet"
           }
          ],
          "scattergeo": [
           {
            "marker": {
             "colorbar": {
              "outlinewidth": 0,
              "ticks": ""
             }
            },
            "type": "scattergeo"
           }
          ],
          "scattergl": [
           {
            "marker": {
             "colorbar": {
              "outlinewidth": 0,
              "ticks": ""
             }
            },
            "type": "scattergl"
           }
          ],
          "scattermapbox": [
           {
            "marker": {
             "colorbar": {
              "outlinewidth": 0,
              "ticks": ""
             }
            },
            "type": "scattermapbox"
           }
          ],
          "scatterpolar": [
           {
            "marker": {
             "colorbar": {
              "outlinewidth": 0,
              "ticks": ""
             }
            },
            "type": "scatterpolar"
           }
          ],
          "scatterpolargl": [
           {
            "marker": {
             "colorbar": {
              "outlinewidth": 0,
              "ticks": ""
             }
            },
            "type": "scatterpolargl"
           }
          ],
          "scatterternary": [
           {
            "marker": {
             "colorbar": {
              "outlinewidth": 0,
              "ticks": ""
             }
            },
            "type": "scatterternary"
           }
          ],
          "surface": [
           {
            "colorbar": {
             "outlinewidth": 0,
             "ticks": ""
            },
            "colorscale": [
             [
              0,
              "#0d0887"
             ],
             [
              0.1111111111111111,
              "#46039f"
             ],
             [
              0.2222222222222222,
              "#7201a8"
             ],
             [
              0.3333333333333333,
              "#9c179e"
             ],
             [
              0.4444444444444444,
              "#bd3786"
             ],
             [
              0.5555555555555556,
              "#d8576b"
             ],
             [
              0.6666666666666666,
              "#ed7953"
             ],
             [
              0.7777777777777778,
              "#fb9f3a"
             ],
             [
              0.8888888888888888,
              "#fdca26"
             ],
             [
              1,
              "#f0f921"
             ]
            ],
            "type": "surface"
           }
          ],
          "table": [
           {
            "cells": {
             "fill": {
              "color": "#EBF0F8"
             },
             "line": {
              "color": "white"
             }
            },
            "header": {
             "fill": {
              "color": "#C8D4E3"
             },
             "line": {
              "color": "white"
             }
            },
            "type": "table"
           }
          ]
         },
         "layout": {
          "annotationdefaults": {
           "arrowcolor": "#2a3f5f",
           "arrowhead": 0,
           "arrowwidth": 1
          },
          "autotypenumbers": "strict",
          "coloraxis": {
           "colorbar": {
            "outlinewidth": 0,
            "ticks": ""
           }
          },
          "colorscale": {
           "diverging": [
            [
             0,
             "#8e0152"
            ],
            [
             0.1,
             "#c51b7d"
            ],
            [
             0.2,
             "#de77ae"
            ],
            [
             0.3,
             "#f1b6da"
            ],
            [
             0.4,
             "#fde0ef"
            ],
            [
             0.5,
             "#f7f7f7"
            ],
            [
             0.6,
             "#e6f5d0"
            ],
            [
             0.7,
             "#b8e186"
            ],
            [
             0.8,
             "#7fbc41"
            ],
            [
             0.9,
             "#4d9221"
            ],
            [
             1,
             "#276419"
            ]
           ],
           "sequential": [
            [
             0,
             "#0d0887"
            ],
            [
             0.1111111111111111,
             "#46039f"
            ],
            [
             0.2222222222222222,
             "#7201a8"
            ],
            [
             0.3333333333333333,
             "#9c179e"
            ],
            [
             0.4444444444444444,
             "#bd3786"
            ],
            [
             0.5555555555555556,
             "#d8576b"
            ],
            [
             0.6666666666666666,
             "#ed7953"
            ],
            [
             0.7777777777777778,
             "#fb9f3a"
            ],
            [
             0.8888888888888888,
             "#fdca26"
            ],
            [
             1,
             "#f0f921"
            ]
           ],
           "sequentialminus": [
            [
             0,
             "#0d0887"
            ],
            [
             0.1111111111111111,
             "#46039f"
            ],
            [
             0.2222222222222222,
             "#7201a8"
            ],
            [
             0.3333333333333333,
             "#9c179e"
            ],
            [
             0.4444444444444444,
             "#bd3786"
            ],
            [
             0.5555555555555556,
             "#d8576b"
            ],
            [
             0.6666666666666666,
             "#ed7953"
            ],
            [
             0.7777777777777778,
             "#fb9f3a"
            ],
            [
             0.8888888888888888,
             "#fdca26"
            ],
            [
             1,
             "#f0f921"
            ]
           ]
          },
          "colorway": [
           "#636efa",
           "#EF553B",
           "#00cc96",
           "#ab63fa",
           "#FFA15A",
           "#19d3f3",
           "#FF6692",
           "#B6E880",
           "#FF97FF",
           "#FECB52"
          ],
          "font": {
           "color": "#2a3f5f"
          },
          "geo": {
           "bgcolor": "white",
           "lakecolor": "white",
           "landcolor": "#E5ECF6",
           "showlakes": true,
           "showland": true,
           "subunitcolor": "white"
          },
          "hoverlabel": {
           "align": "left"
          },
          "hovermode": "closest",
          "mapbox": {
           "style": "light"
          },
          "paper_bgcolor": "white",
          "plot_bgcolor": "#E5ECF6",
          "polar": {
           "angularaxis": {
            "gridcolor": "white",
            "linecolor": "white",
            "ticks": ""
           },
           "bgcolor": "#E5ECF6",
           "radialaxis": {
            "gridcolor": "white",
            "linecolor": "white",
            "ticks": ""
           }
          },
          "scene": {
           "xaxis": {
            "backgroundcolor": "#E5ECF6",
            "gridcolor": "white",
            "gridwidth": 2,
            "linecolor": "white",
            "showbackground": true,
            "ticks": "",
            "zerolinecolor": "white"
           },
           "yaxis": {
            "backgroundcolor": "#E5ECF6",
            "gridcolor": "white",
            "gridwidth": 2,
            "linecolor": "white",
            "showbackground": true,
            "ticks": "",
            "zerolinecolor": "white"
           },
           "zaxis": {
            "backgroundcolor": "#E5ECF6",
            "gridcolor": "white",
            "gridwidth": 2,
            "linecolor": "white",
            "showbackground": true,
            "ticks": "",
            "zerolinecolor": "white"
           }
          },
          "shapedefaults": {
           "line": {
            "color": "#2a3f5f"
           }
          },
          "ternary": {
           "aaxis": {
            "gridcolor": "white",
            "linecolor": "white",
            "ticks": ""
           },
           "baxis": {
            "gridcolor": "white",
            "linecolor": "white",
            "ticks": ""
           },
           "bgcolor": "#E5ECF6",
           "caxis": {
            "gridcolor": "white",
            "linecolor": "white",
            "ticks": ""
           }
          },
          "title": {
           "x": 0.05
          },
          "xaxis": {
           "automargin": true,
           "gridcolor": "white",
           "linecolor": "white",
           "ticks": "",
           "title": {
            "standoff": 15
           },
           "zerolinecolor": "white",
           "zerolinewidth": 2
          },
          "yaxis": {
           "automargin": true,
           "gridcolor": "white",
           "linecolor": "white",
           "ticks": "",
           "title": {
            "standoff": 15
           },
           "zerolinecolor": "white",
           "zerolinewidth": 2
          }
         }
        },
        "title": {
         "text": "Training History"
        },
        "xaxis": {
         "anchor": "y",
         "domain": [
          0,
          1
         ],
         "title": {
          "text": "epoch"
         }
        },
        "yaxis": {
         "anchor": "x",
         "domain": [
          0,
          1
         ],
         "title": {
          "text": "loss"
         }
        }
       }
      },
      "text/html": [
       "<div>                            <div id=\"68c19af6-56e3-468f-80f8-bd0070e303c7\" class=\"plotly-graph-div\" style=\"height:525px; width:100%;\"></div>            <script type=\"text/javascript\">                require([\"plotly\"], function(Plotly) {                    window.PLOTLYENV=window.PLOTLYENV || {};                                    if (document.getElementById(\"68c19af6-56e3-468f-80f8-bd0070e303c7\")) {                    Plotly.newPlot(                        \"68c19af6-56e3-468f-80f8-bd0070e303c7\",                        [{\"hovertemplate\":\"variable=loss<br>epoch=%{x}<br>loss=%{y}<extra></extra>\",\"legendgroup\":\"loss\",\"line\":{\"color\":\"#636efa\",\"dash\":\"solid\"},\"marker\":{\"symbol\":\"circle\"},\"mode\":\"lines\",\"name\":\"loss\",\"orientation\":\"v\",\"showlegend\":true,\"x\":[0,1,2,3,4,5,6,7,8,9,10,11,12,13,14],\"xaxis\":\"x\",\"y\":[1.1878207921981812,0.8756456971168518,0.7751421332359314,0.718319833278656,0.6720850467681885,0.6284782886505127,0.5969042778015137,0.5558790564537048,0.5117449760437012,0.4795394837856293,0.43758493661880493,0.3967382609844208,0.3731568157672882,0.3292447328567505,0.3076569139957428],\"yaxis\":\"y\",\"type\":\"scatter\"},{\"hovertemplate\":\"variable=val_loss<br>epoch=%{x}<br>loss=%{y}<extra></extra>\",\"legendgroup\":\"val_loss\",\"line\":{\"color\":\"#EF553B\",\"dash\":\"solid\"},\"marker\":{\"symbol\":\"circle\"},\"mode\":\"lines\",\"name\":\"val_loss\",\"orientation\":\"v\",\"showlegend\":true,\"x\":[0,1,2,3,4,5,6,7,8,9,10,11,12,13,14],\"xaxis\":\"x\",\"y\":[1.6501706838607788,1.9671657085418701,2.0392990112304688,0.7755831480026245,0.723249614238739,0.8058115243911743,2.9732728004455566,0.8831230998039246,0.9165711998939514,0.7618280053138733,0.88934326171875,0.7701125144958496,0.9598401188850403,1.2278718948364258,1.004135012626648],\"yaxis\":\"y\",\"type\":\"scatter\"}],                        {\"template\":{\"data\":{\"bar\":[{\"error_x\":{\"color\":\"#2a3f5f\"},\"error_y\":{\"color\":\"#2a3f5f\"},\"marker\":{\"line\":{\"color\":\"#E5ECF6\",\"width\":0.5},\"pattern\":{\"fillmode\":\"overlay\",\"size\":10,\"solidity\":0.2}},\"type\":\"bar\"}],\"barpolar\":[{\"marker\":{\"line\":{\"color\":\"#E5ECF6\",\"width\":0.5},\"pattern\":{\"fillmode\":\"overlay\",\"size\":10,\"solidity\":0.2}},\"type\":\"barpolar\"}],\"carpet\":[{\"aaxis\":{\"endlinecolor\":\"#2a3f5f\",\"gridcolor\":\"white\",\"linecolor\":\"white\",\"minorgridcolor\":\"white\",\"startlinecolor\":\"#2a3f5f\"},\"baxis\":{\"endlinecolor\":\"#2a3f5f\",\"gridcolor\":\"white\",\"linecolor\":\"white\",\"minorgridcolor\":\"white\",\"startlinecolor\":\"#2a3f5f\"},\"type\":\"carpet\"}],\"choropleth\":[{\"colorbar\":{\"outlinewidth\":0,\"ticks\":\"\"},\"type\":\"choropleth\"}],\"contour\":[{\"colorbar\":{\"outlinewidth\":0,\"ticks\":\"\"},\"colorscale\":[[0.0,\"#0d0887\"],[0.1111111111111111,\"#46039f\"],[0.2222222222222222,\"#7201a8\"],[0.3333333333333333,\"#9c179e\"],[0.4444444444444444,\"#bd3786\"],[0.5555555555555556,\"#d8576b\"],[0.6666666666666666,\"#ed7953\"],[0.7777777777777778,\"#fb9f3a\"],[0.8888888888888888,\"#fdca26\"],[1.0,\"#f0f921\"]],\"type\":\"contour\"}],\"contourcarpet\":[{\"colorbar\":{\"outlinewidth\":0,\"ticks\":\"\"},\"type\":\"contourcarpet\"}],\"heatmap\":[{\"colorbar\":{\"outlinewidth\":0,\"ticks\":\"\"},\"colorscale\":[[0.0,\"#0d0887\"],[0.1111111111111111,\"#46039f\"],[0.2222222222222222,\"#7201a8\"],[0.3333333333333333,\"#9c179e\"],[0.4444444444444444,\"#bd3786\"],[0.5555555555555556,\"#d8576b\"],[0.6666666666666666,\"#ed7953\"],[0.7777777777777778,\"#fb9f3a\"],[0.8888888888888888,\"#fdca26\"],[1.0,\"#f0f921\"]],\"type\":\"heatmap\"}],\"heatmapgl\":[{\"colorbar\":{\"outlinewidth\":0,\"ticks\":\"\"},\"colorscale\":[[0.0,\"#0d0887\"],[0.1111111111111111,\"#46039f\"],[0.2222222222222222,\"#7201a8\"],[0.3333333333333333,\"#9c179e\"],[0.4444444444444444,\"#bd3786\"],[0.5555555555555556,\"#d8576b\"],[0.6666666666666666,\"#ed7953\"],[0.7777777777777778,\"#fb9f3a\"],[0.8888888888888888,\"#fdca26\"],[1.0,\"#f0f921\"]],\"type\":\"heatmapgl\"}],\"histogram\":[{\"marker\":{\"pattern\":{\"fillmode\":\"overlay\",\"size\":10,\"solidity\":0.2}},\"type\":\"histogram\"}],\"histogram2d\":[{\"colorbar\":{\"outlinewidth\":0,\"ticks\":\"\"},\"colorscale\":[[0.0,\"#0d0887\"],[0.1111111111111111,\"#46039f\"],[0.2222222222222222,\"#7201a8\"],[0.3333333333333333,\"#9c179e\"],[0.4444444444444444,\"#bd3786\"],[0.5555555555555556,\"#d8576b\"],[0.6666666666666666,\"#ed7953\"],[0.7777777777777778,\"#fb9f3a\"],[0.8888888888888888,\"#fdca26\"],[1.0,\"#f0f921\"]],\"type\":\"histogram2d\"}],\"histogram2dcontour\":[{\"colorbar\":{\"outlinewidth\":0,\"ticks\":\"\"},\"colorscale\":[[0.0,\"#0d0887\"],[0.1111111111111111,\"#46039f\"],[0.2222222222222222,\"#7201a8\"],[0.3333333333333333,\"#9c179e\"],[0.4444444444444444,\"#bd3786\"],[0.5555555555555556,\"#d8576b\"],[0.6666666666666666,\"#ed7953\"],[0.7777777777777778,\"#fb9f3a\"],[0.8888888888888888,\"#fdca26\"],[1.0,\"#f0f921\"]],\"type\":\"histogram2dcontour\"}],\"mesh3d\":[{\"colorbar\":{\"outlinewidth\":0,\"ticks\":\"\"},\"type\":\"mesh3d\"}],\"parcoords\":[{\"line\":{\"colorbar\":{\"outlinewidth\":0,\"ticks\":\"\"}},\"type\":\"parcoords\"}],\"pie\":[{\"automargin\":true,\"type\":\"pie\"}],\"scatter\":[{\"marker\":{\"colorbar\":{\"outlinewidth\":0,\"ticks\":\"\"}},\"type\":\"scatter\"}],\"scatter3d\":[{\"line\":{\"colorbar\":{\"outlinewidth\":0,\"ticks\":\"\"}},\"marker\":{\"colorbar\":{\"outlinewidth\":0,\"ticks\":\"\"}},\"type\":\"scatter3d\"}],\"scattercarpet\":[{\"marker\":{\"colorbar\":{\"outlinewidth\":0,\"ticks\":\"\"}},\"type\":\"scattercarpet\"}],\"scattergeo\":[{\"marker\":{\"colorbar\":{\"outlinewidth\":0,\"ticks\":\"\"}},\"type\":\"scattergeo\"}],\"scattergl\":[{\"marker\":{\"colorbar\":{\"outlinewidth\":0,\"ticks\":\"\"}},\"type\":\"scattergl\"}],\"scattermapbox\":[{\"marker\":{\"colorbar\":{\"outlinewidth\":0,\"ticks\":\"\"}},\"type\":\"scattermapbox\"}],\"scatterpolar\":[{\"marker\":{\"colorbar\":{\"outlinewidth\":0,\"ticks\":\"\"}},\"type\":\"scatterpolar\"}],\"scatterpolargl\":[{\"marker\":{\"colorbar\":{\"outlinewidth\":0,\"ticks\":\"\"}},\"type\":\"scatterpolargl\"}],\"scatterternary\":[{\"marker\":{\"colorbar\":{\"outlinewidth\":0,\"ticks\":\"\"}},\"type\":\"scatterternary\"}],\"surface\":[{\"colorbar\":{\"outlinewidth\":0,\"ticks\":\"\"},\"colorscale\":[[0.0,\"#0d0887\"],[0.1111111111111111,\"#46039f\"],[0.2222222222222222,\"#7201a8\"],[0.3333333333333333,\"#9c179e\"],[0.4444444444444444,\"#bd3786\"],[0.5555555555555556,\"#d8576b\"],[0.6666666666666666,\"#ed7953\"],[0.7777777777777778,\"#fb9f3a\"],[0.8888888888888888,\"#fdca26\"],[1.0,\"#f0f921\"]],\"type\":\"surface\"}],\"table\":[{\"cells\":{\"fill\":{\"color\":\"#EBF0F8\"},\"line\":{\"color\":\"white\"}},\"header\":{\"fill\":{\"color\":\"#C8D4E3\"},\"line\":{\"color\":\"white\"}},\"type\":\"table\"}]},\"layout\":{\"annotationdefaults\":{\"arrowcolor\":\"#2a3f5f\",\"arrowhead\":0,\"arrowwidth\":1},\"autotypenumbers\":\"strict\",\"coloraxis\":{\"colorbar\":{\"outlinewidth\":0,\"ticks\":\"\"}},\"colorscale\":{\"diverging\":[[0,\"#8e0152\"],[0.1,\"#c51b7d\"],[0.2,\"#de77ae\"],[0.3,\"#f1b6da\"],[0.4,\"#fde0ef\"],[0.5,\"#f7f7f7\"],[0.6,\"#e6f5d0\"],[0.7,\"#b8e186\"],[0.8,\"#7fbc41\"],[0.9,\"#4d9221\"],[1,\"#276419\"]],\"sequential\":[[0.0,\"#0d0887\"],[0.1111111111111111,\"#46039f\"],[0.2222222222222222,\"#7201a8\"],[0.3333333333333333,\"#9c179e\"],[0.4444444444444444,\"#bd3786\"],[0.5555555555555556,\"#d8576b\"],[0.6666666666666666,\"#ed7953\"],[0.7777777777777778,\"#fb9f3a\"],[0.8888888888888888,\"#fdca26\"],[1.0,\"#f0f921\"]],\"sequentialminus\":[[0.0,\"#0d0887\"],[0.1111111111111111,\"#46039f\"],[0.2222222222222222,\"#7201a8\"],[0.3333333333333333,\"#9c179e\"],[0.4444444444444444,\"#bd3786\"],[0.5555555555555556,\"#d8576b\"],[0.6666666666666666,\"#ed7953\"],[0.7777777777777778,\"#fb9f3a\"],[0.8888888888888888,\"#fdca26\"],[1.0,\"#f0f921\"]]},\"colorway\":[\"#636efa\",\"#EF553B\",\"#00cc96\",\"#ab63fa\",\"#FFA15A\",\"#19d3f3\",\"#FF6692\",\"#B6E880\",\"#FF97FF\",\"#FECB52\"],\"font\":{\"color\":\"#2a3f5f\"},\"geo\":{\"bgcolor\":\"white\",\"lakecolor\":\"white\",\"landcolor\":\"#E5ECF6\",\"showlakes\":true,\"showland\":true,\"subunitcolor\":\"white\"},\"hoverlabel\":{\"align\":\"left\"},\"hovermode\":\"closest\",\"mapbox\":{\"style\":\"light\"},\"paper_bgcolor\":\"white\",\"plot_bgcolor\":\"#E5ECF6\",\"polar\":{\"angularaxis\":{\"gridcolor\":\"white\",\"linecolor\":\"white\",\"ticks\":\"\"},\"bgcolor\":\"#E5ECF6\",\"radialaxis\":{\"gridcolor\":\"white\",\"linecolor\":\"white\",\"ticks\":\"\"}},\"scene\":{\"xaxis\":{\"backgroundcolor\":\"#E5ECF6\",\"gridcolor\":\"white\",\"gridwidth\":2,\"linecolor\":\"white\",\"showbackground\":true,\"ticks\":\"\",\"zerolinecolor\":\"white\"},\"yaxis\":{\"backgroundcolor\":\"#E5ECF6\",\"gridcolor\":\"white\",\"gridwidth\":2,\"linecolor\":\"white\",\"showbackground\":true,\"ticks\":\"\",\"zerolinecolor\":\"white\"},\"zaxis\":{\"backgroundcolor\":\"#E5ECF6\",\"gridcolor\":\"white\",\"gridwidth\":2,\"linecolor\":\"white\",\"showbackground\":true,\"ticks\":\"\",\"zerolinecolor\":\"white\"}},\"shapedefaults\":{\"line\":{\"color\":\"#2a3f5f\"}},\"ternary\":{\"aaxis\":{\"gridcolor\":\"white\",\"linecolor\":\"white\",\"ticks\":\"\"},\"baxis\":{\"gridcolor\":\"white\",\"linecolor\":\"white\",\"ticks\":\"\"},\"bgcolor\":\"#E5ECF6\",\"caxis\":{\"gridcolor\":\"white\",\"linecolor\":\"white\",\"ticks\":\"\"}},\"title\":{\"x\":0.05},\"xaxis\":{\"automargin\":true,\"gridcolor\":\"white\",\"linecolor\":\"white\",\"ticks\":\"\",\"title\":{\"standoff\":15},\"zerolinecolor\":\"white\",\"zerolinewidth\":2},\"yaxis\":{\"automargin\":true,\"gridcolor\":\"white\",\"linecolor\":\"white\",\"ticks\":\"\",\"title\":{\"standoff\":15},\"zerolinecolor\":\"white\",\"zerolinewidth\":2}}},\"xaxis\":{\"anchor\":\"y\",\"domain\":[0.0,1.0],\"title\":{\"text\":\"epoch\"}},\"yaxis\":{\"anchor\":\"x\",\"domain\":[0.0,1.0],\"title\":{\"text\":\"loss\"}},\"legend\":{\"title\":{\"text\":\"variable\"},\"tracegroupgap\":0},\"title\":{\"text\":\"Training History\"}},                        {\"responsive\": true}                    ).then(function(){\n",
       "                            \n",
       "var gd = document.getElementById('68c19af6-56e3-468f-80f8-bd0070e303c7');\n",
       "var x = new MutationObserver(function (mutations, observer) {{\n",
       "        var display = window.getComputedStyle(gd).display;\n",
       "        if (!display || display === 'none') {{\n",
       "            console.log([gd, 'removed!']);\n",
       "            Plotly.purge(gd);\n",
       "            observer.disconnect();\n",
       "        }}\n",
       "}});\n",
       "\n",
       "// Listen for the removal of the full notebook cells\n",
       "var notebookContainer = gd.closest('#notebook-container');\n",
       "if (notebookContainer) {{\n",
       "    x.observe(notebookContainer, {childList: true});\n",
       "}}\n",
       "\n",
       "// Listen for the clearing of the current output cell\n",
       "var outputEl = gd.closest('.output');\n",
       "if (outputEl) {{\n",
       "    x.observe(outputEl, {childList: true});\n",
       "}}\n",
       "\n",
       "                        })                };                });            </script>        </div>"
      ]
     },
     "metadata": {},
     "output_type": "display_data"
    }
   ],
   "source": [
    "fig = px.line(\n",
    "    history_ethnicity.history, y=['loss', 'val_loss'],\n",
    "    labels={'index': 'epoch', 'value': 'loss'}, \n",
    "    title='Training History')\n",
    "fig.show()"
   ]
  },
  {
   "cell_type": "markdown",
   "id": "22058401",
   "metadata": {
    "papermill": {
     "duration": 0.252198,
     "end_time": "2023-08-03T06:58:06.757747",
     "exception": false,
     "start_time": "2023-08-03T06:58:06.505549",
     "status": "completed"
    },
    "tags": []
   },
   "source": [
    "### Loss & Accuracy"
   ]
  },
  {
   "cell_type": "code",
   "execution_count": 26,
   "id": "80a2757f",
   "metadata": {
    "execution": {
     "iopub.execute_input": "2023-08-03T06:58:07.262393Z",
     "iopub.status.busy": "2023-08-03T06:58:07.261005Z",
     "iopub.status.idle": "2023-08-03T06:58:08.095698Z",
     "shell.execute_reply": "2023-08-03T06:58:08.094879Z",
     "shell.execute_reply.started": "2023-08-03T06:36:18.028383Z"
    },
    "papermill": {
     "duration": 1.092332,
     "end_time": "2023-08-03T06:58:08.095852",
     "exception": false,
     "start_time": "2023-08-03T06:58:07.003520",
     "status": "completed"
    },
    "tags": []
   },
   "outputs": [
    {
     "name": "stdout",
     "output_type": "stream",
     "text": [
      "Test loss: 0.7232500314712524\n",
      "Test Accuracy: 0.7428290247917175\n"
     ]
    }
   ],
   "source": [
    "loss, acc = model_ethnicity.evaluate(X_test_ethnicity, y_test_ethnicity, verbose=0)\n",
    "print('Test loss: {}'.format(loss))\n",
    "print('Test Accuracy: {}'.format(acc))"
   ]
  },
  {
   "cell_type": "markdown",
   "id": "915696d8",
   "metadata": {
    "papermill": {
     "duration": 0.254267,
     "end_time": "2023-08-03T06:58:08.603756",
     "exception": false,
     "start_time": "2023-08-03T06:58:08.349489",
     "status": "completed"
    },
    "tags": []
   },
   "source": [
    "## Age Prediction"
   ]
  },
  {
   "cell_type": "code",
   "execution_count": 27,
   "id": "a8a98389",
   "metadata": {
    "execution": {
     "iopub.execute_input": "2023-08-03T06:58:09.123287Z",
     "iopub.status.busy": "2023-08-03T06:58:09.122246Z",
     "iopub.status.idle": "2023-08-03T06:58:46.659248Z",
     "shell.execute_reply": "2023-08-03T06:58:46.659747Z",
     "shell.execute_reply.started": "2023-08-03T06:36:21.828347Z"
    },
    "papermill": {
     "duration": 37.80117,
     "end_time": "2023-08-03T06:58:46.659969",
     "exception": false,
     "start_time": "2023-08-03T06:58:08.858799",
     "status": "completed"
    },
    "tags": []
   },
   "outputs": [
    {
     "name": "stdout",
     "output_type": "stream",
     "text": [
      "Epoch 1/500\n",
      "259/259 [==============================] - 3s 10ms/step - loss: 1.0160 - accuracy: 0.6383 - val_loss: 4.3735 - val_accuracy: 0.0759\n",
      "Epoch 2/500\n",
      "259/259 [==============================] - 2s 8ms/step - loss: 0.7394 - accuracy: 0.7140 - val_loss: 3.1514 - val_accuracy: 0.1632\n",
      "Epoch 3/500\n",
      "259/259 [==============================] - 2s 8ms/step - loss: 0.6688 - accuracy: 0.7438 - val_loss: 0.8182 - val_accuracy: 0.7018\n",
      "Epoch 4/500\n",
      "259/259 [==============================] - 2s 8ms/step - loss: 0.6273 - accuracy: 0.7563 - val_loss: 1.9671 - val_accuracy: 0.2930\n",
      "Epoch 5/500\n",
      "259/259 [==============================] - 2s 9ms/step - loss: 0.5839 - accuracy: 0.7699 - val_loss: 0.9983 - val_accuracy: 0.6918\n",
      "Epoch 6/500\n",
      "259/259 [==============================] - 2s 8ms/step - loss: 0.5524 - accuracy: 0.7821 - val_loss: 1.0802 - val_accuracy: 0.6967\n",
      "Epoch 7/500\n",
      "259/259 [==============================] - 2s 8ms/step - loss: 0.5349 - accuracy: 0.7878 - val_loss: 0.6755 - val_accuracy: 0.7560\n",
      "Epoch 8/500\n",
      "259/259 [==============================] - 2s 8ms/step - loss: 0.4932 - accuracy: 0.8038 - val_loss: 1.2408 - val_accuracy: 0.6811\n",
      "Epoch 9/500\n",
      "259/259 [==============================] - 2s 8ms/step - loss: 0.4713 - accuracy: 0.8135 - val_loss: 0.7863 - val_accuracy: 0.7330\n",
      "Epoch 10/500\n",
      "259/259 [==============================] - 2s 8ms/step - loss: 0.4432 - accuracy: 0.8243 - val_loss: 0.7604 - val_accuracy: 0.7431\n",
      "Epoch 11/500\n",
      "259/259 [==============================] - 2s 8ms/step - loss: 0.4069 - accuracy: 0.8408 - val_loss: 0.7605 - val_accuracy: 0.7466\n",
      "Epoch 12/500\n",
      "259/259 [==============================] - 2s 8ms/step - loss: 0.3901 - accuracy: 0.8478 - val_loss: 1.4781 - val_accuracy: 0.4851\n",
      "Epoch 13/500\n",
      "259/259 [==============================] - 2s 8ms/step - loss: 0.3582 - accuracy: 0.8625 - val_loss: 0.7361 - val_accuracy: 0.7434\n",
      "Epoch 14/500\n",
      "259/259 [==============================] - 2s 8ms/step - loss: 0.3334 - accuracy: 0.8701 - val_loss: 0.8357 - val_accuracy: 0.7047\n",
      "Epoch 15/500\n",
      "259/259 [==============================] - 2s 8ms/step - loss: 0.3007 - accuracy: 0.8831 - val_loss: 1.9448 - val_accuracy: 0.6686\n",
      "Epoch 16/500\n",
      "259/259 [==============================] - 2s 8ms/step - loss: 0.2842 - accuracy: 0.8906 - val_loss: 1.3567 - val_accuracy: 0.6908\n",
      "Epoch 17/500\n",
      "259/259 [==============================] - 2s 8ms/step - loss: 0.2441 - accuracy: 0.9060 - val_loss: 1.1891 - val_accuracy: 0.6940\n"
     ]
    }
   ],
   "source": [
    "model_age = my_model(5,\"softmax\",'categorical_crossentropy')\n",
    "history_age = model_age.fit(X_train_age, y_train_age, batch_size=batch_size,\n",
    "                              epochs = epochs, validation_data = (X_test_age,y_test_age), \n",
    "                            steps_per_epoch= X_train_age.shape[0] // batch_size, \n",
    "                            callbacks= [early_stopping, \n",
    "                            learning_rate_reduction])"
   ]
  },
  {
   "cell_type": "markdown",
   "id": "74f562f0",
   "metadata": {
    "papermill": {
     "duration": 0.475083,
     "end_time": "2023-08-03T06:58:47.598964",
     "exception": false,
     "start_time": "2023-08-03T06:58:47.123881",
     "status": "completed"
    },
    "tags": []
   },
   "source": [
    "### Plotting model performance"
   ]
  },
  {
   "cell_type": "code",
   "execution_count": 28,
   "id": "6c3b1777",
   "metadata": {
    "execution": {
     "iopub.execute_input": "2023-08-03T06:58:48.555313Z",
     "iopub.status.busy": "2023-08-03T06:58:48.553936Z",
     "iopub.status.idle": "2023-08-03T06:58:48.629614Z",
     "shell.execute_reply": "2023-08-03T06:58:48.630160Z",
     "shell.execute_reply.started": "2023-08-03T06:42:55.467683Z"
    },
    "papermill": {
     "duration": 0.561115,
     "end_time": "2023-08-03T06:58:48.630333",
     "exception": false,
     "start_time": "2023-08-03T06:58:48.069218",
     "status": "completed"
    },
    "tags": []
   },
   "outputs": [
    {
     "data": {
      "application/vnd.plotly.v1+json": {
       "config": {
        "plotlyServerURL": "https://plot.ly"
       },
       "data": [
        {
         "hovertemplate": "variable=loss<br>epoch=%{x}<br>loss=%{y}<extra></extra>",
         "legendgroup": "loss",
         "line": {
          "color": "#636efa",
          "dash": "solid"
         },
         "marker": {
          "symbol": "circle"
         },
         "mode": "lines",
         "name": "loss",
         "orientation": "v",
         "showlegend": true,
         "type": "scatter",
         "x": [
          0,
          1,
          2,
          3,
          4,
          5,
          6,
          7,
          8,
          9,
          10,
          11,
          12,
          13,
          14,
          15,
          16
         ],
         "xaxis": "x",
         "y": [
          1.0159635543823242,
          0.739375650882721,
          0.6687675714492798,
          0.627336323261261,
          0.5838719010353088,
          0.5524373054504395,
          0.5349140763282776,
          0.49320676922798157,
          0.47127118706703186,
          0.4431757926940918,
          0.4069347381591797,
          0.39010927081108093,
          0.3582351803779602,
          0.33343610167503357,
          0.30066627264022827,
          0.28420811891555786,
          0.2440837025642395
         ],
         "yaxis": "y"
        },
        {
         "hovertemplate": "variable=val_loss<br>epoch=%{x}<br>loss=%{y}<extra></extra>",
         "legendgroup": "val_loss",
         "line": {
          "color": "#EF553B",
          "dash": "solid"
         },
         "marker": {
          "symbol": "circle"
         },
         "mode": "lines",
         "name": "val_loss",
         "orientation": "v",
         "showlegend": true,
         "type": "scatter",
         "x": [
          0,
          1,
          2,
          3,
          4,
          5,
          6,
          7,
          8,
          9,
          10,
          11,
          12,
          13,
          14,
          15,
          16
         ],
         "xaxis": "x",
         "y": [
          4.3735456466674805,
          3.1514081954956055,
          0.8181901574134827,
          1.9670690298080444,
          0.9982733130455017,
          1.0801538228988647,
          0.6754719018936157,
          1.2408300638198853,
          0.786295473575592,
          0.7603524327278137,
          0.7604896426200867,
          1.4781384468078613,
          0.7361456155776978,
          0.8357049226760864,
          1.9448052644729614,
          1.356702446937561,
          1.1890641450881958
         ],
         "yaxis": "y"
        }
       ],
       "layout": {
        "legend": {
         "title": {
          "text": "variable"
         },
         "tracegroupgap": 0
        },
        "template": {
         "data": {
          "bar": [
           {
            "error_x": {
             "color": "#2a3f5f"
            },
            "error_y": {
             "color": "#2a3f5f"
            },
            "marker": {
             "line": {
              "color": "#E5ECF6",
              "width": 0.5
             },
             "pattern": {
              "fillmode": "overlay",
              "size": 10,
              "solidity": 0.2
             }
            },
            "type": "bar"
           }
          ],
          "barpolar": [
           {
            "marker": {
             "line": {
              "color": "#E5ECF6",
              "width": 0.5
             },
             "pattern": {
              "fillmode": "overlay",
              "size": 10,
              "solidity": 0.2
             }
            },
            "type": "barpolar"
           }
          ],
          "carpet": [
           {
            "aaxis": {
             "endlinecolor": "#2a3f5f",
             "gridcolor": "white",
             "linecolor": "white",
             "minorgridcolor": "white",
             "startlinecolor": "#2a3f5f"
            },
            "baxis": {
             "endlinecolor": "#2a3f5f",
             "gridcolor": "white",
             "linecolor": "white",
             "minorgridcolor": "white",
             "startlinecolor": "#2a3f5f"
            },
            "type": "carpet"
           }
          ],
          "choropleth": [
           {
            "colorbar": {
             "outlinewidth": 0,
             "ticks": ""
            },
            "type": "choropleth"
           }
          ],
          "contour": [
           {
            "colorbar": {
             "outlinewidth": 0,
             "ticks": ""
            },
            "colorscale": [
             [
              0,
              "#0d0887"
             ],
             [
              0.1111111111111111,
              "#46039f"
             ],
             [
              0.2222222222222222,
              "#7201a8"
             ],
             [
              0.3333333333333333,
              "#9c179e"
             ],
             [
              0.4444444444444444,
              "#bd3786"
             ],
             [
              0.5555555555555556,
              "#d8576b"
             ],
             [
              0.6666666666666666,
              "#ed7953"
             ],
             [
              0.7777777777777778,
              "#fb9f3a"
             ],
             [
              0.8888888888888888,
              "#fdca26"
             ],
             [
              1,
              "#f0f921"
             ]
            ],
            "type": "contour"
           }
          ],
          "contourcarpet": [
           {
            "colorbar": {
             "outlinewidth": 0,
             "ticks": ""
            },
            "type": "contourcarpet"
           }
          ],
          "heatmap": [
           {
            "colorbar": {
             "outlinewidth": 0,
             "ticks": ""
            },
            "colorscale": [
             [
              0,
              "#0d0887"
             ],
             [
              0.1111111111111111,
              "#46039f"
             ],
             [
              0.2222222222222222,
              "#7201a8"
             ],
             [
              0.3333333333333333,
              "#9c179e"
             ],
             [
              0.4444444444444444,
              "#bd3786"
             ],
             [
              0.5555555555555556,
              "#d8576b"
             ],
             [
              0.6666666666666666,
              "#ed7953"
             ],
             [
              0.7777777777777778,
              "#fb9f3a"
             ],
             [
              0.8888888888888888,
              "#fdca26"
             ],
             [
              1,
              "#f0f921"
             ]
            ],
            "type": "heatmap"
           }
          ],
          "heatmapgl": [
           {
            "colorbar": {
             "outlinewidth": 0,
             "ticks": ""
            },
            "colorscale": [
             [
              0,
              "#0d0887"
             ],
             [
              0.1111111111111111,
              "#46039f"
             ],
             [
              0.2222222222222222,
              "#7201a8"
             ],
             [
              0.3333333333333333,
              "#9c179e"
             ],
             [
              0.4444444444444444,
              "#bd3786"
             ],
             [
              0.5555555555555556,
              "#d8576b"
             ],
             [
              0.6666666666666666,
              "#ed7953"
             ],
             [
              0.7777777777777778,
              "#fb9f3a"
             ],
             [
              0.8888888888888888,
              "#fdca26"
             ],
             [
              1,
              "#f0f921"
             ]
            ],
            "type": "heatmapgl"
           }
          ],
          "histogram": [
           {
            "marker": {
             "pattern": {
              "fillmode": "overlay",
              "size": 10,
              "solidity": 0.2
             }
            },
            "type": "histogram"
           }
          ],
          "histogram2d": [
           {
            "colorbar": {
             "outlinewidth": 0,
             "ticks": ""
            },
            "colorscale": [
             [
              0,
              "#0d0887"
             ],
             [
              0.1111111111111111,
              "#46039f"
             ],
             [
              0.2222222222222222,
              "#7201a8"
             ],
             [
              0.3333333333333333,
              "#9c179e"
             ],
             [
              0.4444444444444444,
              "#bd3786"
             ],
             [
              0.5555555555555556,
              "#d8576b"
             ],
             [
              0.6666666666666666,
              "#ed7953"
             ],
             [
              0.7777777777777778,
              "#fb9f3a"
             ],
             [
              0.8888888888888888,
              "#fdca26"
             ],
             [
              1,
              "#f0f921"
             ]
            ],
            "type": "histogram2d"
           }
          ],
          "histogram2dcontour": [
           {
            "colorbar": {
             "outlinewidth": 0,
             "ticks": ""
            },
            "colorscale": [
             [
              0,
              "#0d0887"
             ],
             [
              0.1111111111111111,
              "#46039f"
             ],
             [
              0.2222222222222222,
              "#7201a8"
             ],
             [
              0.3333333333333333,
              "#9c179e"
             ],
             [
              0.4444444444444444,
              "#bd3786"
             ],
             [
              0.5555555555555556,
              "#d8576b"
             ],
             [
              0.6666666666666666,
              "#ed7953"
             ],
             [
              0.7777777777777778,
              "#fb9f3a"
             ],
             [
              0.8888888888888888,
              "#fdca26"
             ],
             [
              1,
              "#f0f921"
             ]
            ],
            "type": "histogram2dcontour"
           }
          ],
          "mesh3d": [
           {
            "colorbar": {
             "outlinewidth": 0,
             "ticks": ""
            },
            "type": "mesh3d"
           }
          ],
          "parcoords": [
           {
            "line": {
             "colorbar": {
              "outlinewidth": 0,
              "ticks": ""
             }
            },
            "type": "parcoords"
           }
          ],
          "pie": [
           {
            "automargin": true,
            "type": "pie"
           }
          ],
          "scatter": [
           {
            "marker": {
             "colorbar": {
              "outlinewidth": 0,
              "ticks": ""
             }
            },
            "type": "scatter"
           }
          ],
          "scatter3d": [
           {
            "line": {
             "colorbar": {
              "outlinewidth": 0,
              "ticks": ""
             }
            },
            "marker": {
             "colorbar": {
              "outlinewidth": 0,
              "ticks": ""
             }
            },
            "type": "scatter3d"
           }
          ],
          "scattercarpet": [
           {
            "marker": {
             "colorbar": {
              "outlinewidth": 0,
              "ticks": ""
             }
            },
            "type": "scattercarpet"
           }
          ],
          "scattergeo": [
           {
            "marker": {
             "colorbar": {
              "outlinewidth": 0,
              "ticks": ""
             }
            },
            "type": "scattergeo"
           }
          ],
          "scattergl": [
           {
            "marker": {
             "colorbar": {
              "outlinewidth": 0,
              "ticks": ""
             }
            },
            "type": "scattergl"
           }
          ],
          "scattermapbox": [
           {
            "marker": {
             "colorbar": {
              "outlinewidth": 0,
              "ticks": ""
             }
            },
            "type": "scattermapbox"
           }
          ],
          "scatterpolar": [
           {
            "marker": {
             "colorbar": {
              "outlinewidth": 0,
              "ticks": ""
             }
            },
            "type": "scatterpolar"
           }
          ],
          "scatterpolargl": [
           {
            "marker": {
             "colorbar": {
              "outlinewidth": 0,
              "ticks": ""
             }
            },
            "type": "scatterpolargl"
           }
          ],
          "scatterternary": [
           {
            "marker": {
             "colorbar": {
              "outlinewidth": 0,
              "ticks": ""
             }
            },
            "type": "scatterternary"
           }
          ],
          "surface": [
           {
            "colorbar": {
             "outlinewidth": 0,
             "ticks": ""
            },
            "colorscale": [
             [
              0,
              "#0d0887"
             ],
             [
              0.1111111111111111,
              "#46039f"
             ],
             [
              0.2222222222222222,
              "#7201a8"
             ],
             [
              0.3333333333333333,
              "#9c179e"
             ],
             [
              0.4444444444444444,
              "#bd3786"
             ],
             [
              0.5555555555555556,
              "#d8576b"
             ],
             [
              0.6666666666666666,
              "#ed7953"
             ],
             [
              0.7777777777777778,
              "#fb9f3a"
             ],
             [
              0.8888888888888888,
              "#fdca26"
             ],
             [
              1,
              "#f0f921"
             ]
            ],
            "type": "surface"
           }
          ],
          "table": [
           {
            "cells": {
             "fill": {
              "color": "#EBF0F8"
             },
             "line": {
              "color": "white"
             }
            },
            "header": {
             "fill": {
              "color": "#C8D4E3"
             },
             "line": {
              "color": "white"
             }
            },
            "type": "table"
           }
          ]
         },
         "layout": {
          "annotationdefaults": {
           "arrowcolor": "#2a3f5f",
           "arrowhead": 0,
           "arrowwidth": 1
          },
          "autotypenumbers": "strict",
          "coloraxis": {
           "colorbar": {
            "outlinewidth": 0,
            "ticks": ""
           }
          },
          "colorscale": {
           "diverging": [
            [
             0,
             "#8e0152"
            ],
            [
             0.1,
             "#c51b7d"
            ],
            [
             0.2,
             "#de77ae"
            ],
            [
             0.3,
             "#f1b6da"
            ],
            [
             0.4,
             "#fde0ef"
            ],
            [
             0.5,
             "#f7f7f7"
            ],
            [
             0.6,
             "#e6f5d0"
            ],
            [
             0.7,
             "#b8e186"
            ],
            [
             0.8,
             "#7fbc41"
            ],
            [
             0.9,
             "#4d9221"
            ],
            [
             1,
             "#276419"
            ]
           ],
           "sequential": [
            [
             0,
             "#0d0887"
            ],
            [
             0.1111111111111111,
             "#46039f"
            ],
            [
             0.2222222222222222,
             "#7201a8"
            ],
            [
             0.3333333333333333,
             "#9c179e"
            ],
            [
             0.4444444444444444,
             "#bd3786"
            ],
            [
             0.5555555555555556,
             "#d8576b"
            ],
            [
             0.6666666666666666,
             "#ed7953"
            ],
            [
             0.7777777777777778,
             "#fb9f3a"
            ],
            [
             0.8888888888888888,
             "#fdca26"
            ],
            [
             1,
             "#f0f921"
            ]
           ],
           "sequentialminus": [
            [
             0,
             "#0d0887"
            ],
            [
             0.1111111111111111,
             "#46039f"
            ],
            [
             0.2222222222222222,
             "#7201a8"
            ],
            [
             0.3333333333333333,
             "#9c179e"
            ],
            [
             0.4444444444444444,
             "#bd3786"
            ],
            [
             0.5555555555555556,
             "#d8576b"
            ],
            [
             0.6666666666666666,
             "#ed7953"
            ],
            [
             0.7777777777777778,
             "#fb9f3a"
            ],
            [
             0.8888888888888888,
             "#fdca26"
            ],
            [
             1,
             "#f0f921"
            ]
           ]
          },
          "colorway": [
           "#636efa",
           "#EF553B",
           "#00cc96",
           "#ab63fa",
           "#FFA15A",
           "#19d3f3",
           "#FF6692",
           "#B6E880",
           "#FF97FF",
           "#FECB52"
          ],
          "font": {
           "color": "#2a3f5f"
          },
          "geo": {
           "bgcolor": "white",
           "lakecolor": "white",
           "landcolor": "#E5ECF6",
           "showlakes": true,
           "showland": true,
           "subunitcolor": "white"
          },
          "hoverlabel": {
           "align": "left"
          },
          "hovermode": "closest",
          "mapbox": {
           "style": "light"
          },
          "paper_bgcolor": "white",
          "plot_bgcolor": "#E5ECF6",
          "polar": {
           "angularaxis": {
            "gridcolor": "white",
            "linecolor": "white",
            "ticks": ""
           },
           "bgcolor": "#E5ECF6",
           "radialaxis": {
            "gridcolor": "white",
            "linecolor": "white",
            "ticks": ""
           }
          },
          "scene": {
           "xaxis": {
            "backgroundcolor": "#E5ECF6",
            "gridcolor": "white",
            "gridwidth": 2,
            "linecolor": "white",
            "showbackground": true,
            "ticks": "",
            "zerolinecolor": "white"
           },
           "yaxis": {
            "backgroundcolor": "#E5ECF6",
            "gridcolor": "white",
            "gridwidth": 2,
            "linecolor": "white",
            "showbackground": true,
            "ticks": "",
            "zerolinecolor": "white"
           },
           "zaxis": {
            "backgroundcolor": "#E5ECF6",
            "gridcolor": "white",
            "gridwidth": 2,
            "linecolor": "white",
            "showbackground": true,
            "ticks": "",
            "zerolinecolor": "white"
           }
          },
          "shapedefaults": {
           "line": {
            "color": "#2a3f5f"
           }
          },
          "ternary": {
           "aaxis": {
            "gridcolor": "white",
            "linecolor": "white",
            "ticks": ""
           },
           "baxis": {
            "gridcolor": "white",
            "linecolor": "white",
            "ticks": ""
           },
           "bgcolor": "#E5ECF6",
           "caxis": {
            "gridcolor": "white",
            "linecolor": "white",
            "ticks": ""
           }
          },
          "title": {
           "x": 0.05
          },
          "xaxis": {
           "automargin": true,
           "gridcolor": "white",
           "linecolor": "white",
           "ticks": "",
           "title": {
            "standoff": 15
           },
           "zerolinecolor": "white",
           "zerolinewidth": 2
          },
          "yaxis": {
           "automargin": true,
           "gridcolor": "white",
           "linecolor": "white",
           "ticks": "",
           "title": {
            "standoff": 15
           },
           "zerolinecolor": "white",
           "zerolinewidth": 2
          }
         }
        },
        "title": {
         "text": "Training History"
        },
        "xaxis": {
         "anchor": "y",
         "domain": [
          0,
          1
         ],
         "title": {
          "text": "epoch"
         }
        },
        "yaxis": {
         "anchor": "x",
         "domain": [
          0,
          1
         ],
         "title": {
          "text": "loss"
         }
        }
       }
      },
      "text/html": [
       "<div>                            <div id=\"6a453be1-0b83-4d41-a3f8-52382fff37a2\" class=\"plotly-graph-div\" style=\"height:525px; width:100%;\"></div>            <script type=\"text/javascript\">                require([\"plotly\"], function(Plotly) {                    window.PLOTLYENV=window.PLOTLYENV || {};                                    if (document.getElementById(\"6a453be1-0b83-4d41-a3f8-52382fff37a2\")) {                    Plotly.newPlot(                        \"6a453be1-0b83-4d41-a3f8-52382fff37a2\",                        [{\"hovertemplate\":\"variable=loss<br>epoch=%{x}<br>loss=%{y}<extra></extra>\",\"legendgroup\":\"loss\",\"line\":{\"color\":\"#636efa\",\"dash\":\"solid\"},\"marker\":{\"symbol\":\"circle\"},\"mode\":\"lines\",\"name\":\"loss\",\"orientation\":\"v\",\"showlegend\":true,\"x\":[0,1,2,3,4,5,6,7,8,9,10,11,12,13,14,15,16],\"xaxis\":\"x\",\"y\":[1.0159635543823242,0.739375650882721,0.6687675714492798,0.627336323261261,0.5838719010353088,0.5524373054504395,0.5349140763282776,0.49320676922798157,0.47127118706703186,0.4431757926940918,0.4069347381591797,0.39010927081108093,0.3582351803779602,0.33343610167503357,0.30066627264022827,0.28420811891555786,0.2440837025642395],\"yaxis\":\"y\",\"type\":\"scatter\"},{\"hovertemplate\":\"variable=val_loss<br>epoch=%{x}<br>loss=%{y}<extra></extra>\",\"legendgroup\":\"val_loss\",\"line\":{\"color\":\"#EF553B\",\"dash\":\"solid\"},\"marker\":{\"symbol\":\"circle\"},\"mode\":\"lines\",\"name\":\"val_loss\",\"orientation\":\"v\",\"showlegend\":true,\"x\":[0,1,2,3,4,5,6,7,8,9,10,11,12,13,14,15,16],\"xaxis\":\"x\",\"y\":[4.3735456466674805,3.1514081954956055,0.8181901574134827,1.9670690298080444,0.9982733130455017,1.0801538228988647,0.6754719018936157,1.2408300638198853,0.786295473575592,0.7603524327278137,0.7604896426200867,1.4781384468078613,0.7361456155776978,0.8357049226760864,1.9448052644729614,1.356702446937561,1.1890641450881958],\"yaxis\":\"y\",\"type\":\"scatter\"}],                        {\"template\":{\"data\":{\"bar\":[{\"error_x\":{\"color\":\"#2a3f5f\"},\"error_y\":{\"color\":\"#2a3f5f\"},\"marker\":{\"line\":{\"color\":\"#E5ECF6\",\"width\":0.5},\"pattern\":{\"fillmode\":\"overlay\",\"size\":10,\"solidity\":0.2}},\"type\":\"bar\"}],\"barpolar\":[{\"marker\":{\"line\":{\"color\":\"#E5ECF6\",\"width\":0.5},\"pattern\":{\"fillmode\":\"overlay\",\"size\":10,\"solidity\":0.2}},\"type\":\"barpolar\"}],\"carpet\":[{\"aaxis\":{\"endlinecolor\":\"#2a3f5f\",\"gridcolor\":\"white\",\"linecolor\":\"white\",\"minorgridcolor\":\"white\",\"startlinecolor\":\"#2a3f5f\"},\"baxis\":{\"endlinecolor\":\"#2a3f5f\",\"gridcolor\":\"white\",\"linecolor\":\"white\",\"minorgridcolor\":\"white\",\"startlinecolor\":\"#2a3f5f\"},\"type\":\"carpet\"}],\"choropleth\":[{\"colorbar\":{\"outlinewidth\":0,\"ticks\":\"\"},\"type\":\"choropleth\"}],\"contour\":[{\"colorbar\":{\"outlinewidth\":0,\"ticks\":\"\"},\"colorscale\":[[0.0,\"#0d0887\"],[0.1111111111111111,\"#46039f\"],[0.2222222222222222,\"#7201a8\"],[0.3333333333333333,\"#9c179e\"],[0.4444444444444444,\"#bd3786\"],[0.5555555555555556,\"#d8576b\"],[0.6666666666666666,\"#ed7953\"],[0.7777777777777778,\"#fb9f3a\"],[0.8888888888888888,\"#fdca26\"],[1.0,\"#f0f921\"]],\"type\":\"contour\"}],\"contourcarpet\":[{\"colorbar\":{\"outlinewidth\":0,\"ticks\":\"\"},\"type\":\"contourcarpet\"}],\"heatmap\":[{\"colorbar\":{\"outlinewidth\":0,\"ticks\":\"\"},\"colorscale\":[[0.0,\"#0d0887\"],[0.1111111111111111,\"#46039f\"],[0.2222222222222222,\"#7201a8\"],[0.3333333333333333,\"#9c179e\"],[0.4444444444444444,\"#bd3786\"],[0.5555555555555556,\"#d8576b\"],[0.6666666666666666,\"#ed7953\"],[0.7777777777777778,\"#fb9f3a\"],[0.8888888888888888,\"#fdca26\"],[1.0,\"#f0f921\"]],\"type\":\"heatmap\"}],\"heatmapgl\":[{\"colorbar\":{\"outlinewidth\":0,\"ticks\":\"\"},\"colorscale\":[[0.0,\"#0d0887\"],[0.1111111111111111,\"#46039f\"],[0.2222222222222222,\"#7201a8\"],[0.3333333333333333,\"#9c179e\"],[0.4444444444444444,\"#bd3786\"],[0.5555555555555556,\"#d8576b\"],[0.6666666666666666,\"#ed7953\"],[0.7777777777777778,\"#fb9f3a\"],[0.8888888888888888,\"#fdca26\"],[1.0,\"#f0f921\"]],\"type\":\"heatmapgl\"}],\"histogram\":[{\"marker\":{\"pattern\":{\"fillmode\":\"overlay\",\"size\":10,\"solidity\":0.2}},\"type\":\"histogram\"}],\"histogram2d\":[{\"colorbar\":{\"outlinewidth\":0,\"ticks\":\"\"},\"colorscale\":[[0.0,\"#0d0887\"],[0.1111111111111111,\"#46039f\"],[0.2222222222222222,\"#7201a8\"],[0.3333333333333333,\"#9c179e\"],[0.4444444444444444,\"#bd3786\"],[0.5555555555555556,\"#d8576b\"],[0.6666666666666666,\"#ed7953\"],[0.7777777777777778,\"#fb9f3a\"],[0.8888888888888888,\"#fdca26\"],[1.0,\"#f0f921\"]],\"type\":\"histogram2d\"}],\"histogram2dcontour\":[{\"colorbar\":{\"outlinewidth\":0,\"ticks\":\"\"},\"colorscale\":[[0.0,\"#0d0887\"],[0.1111111111111111,\"#46039f\"],[0.2222222222222222,\"#7201a8\"],[0.3333333333333333,\"#9c179e\"],[0.4444444444444444,\"#bd3786\"],[0.5555555555555556,\"#d8576b\"],[0.6666666666666666,\"#ed7953\"],[0.7777777777777778,\"#fb9f3a\"],[0.8888888888888888,\"#fdca26\"],[1.0,\"#f0f921\"]],\"type\":\"histogram2dcontour\"}],\"mesh3d\":[{\"colorbar\":{\"outlinewidth\":0,\"ticks\":\"\"},\"type\":\"mesh3d\"}],\"parcoords\":[{\"line\":{\"colorbar\":{\"outlinewidth\":0,\"ticks\":\"\"}},\"type\":\"parcoords\"}],\"pie\":[{\"automargin\":true,\"type\":\"pie\"}],\"scatter\":[{\"marker\":{\"colorbar\":{\"outlinewidth\":0,\"ticks\":\"\"}},\"type\":\"scatter\"}],\"scatter3d\":[{\"line\":{\"colorbar\":{\"outlinewidth\":0,\"ticks\":\"\"}},\"marker\":{\"colorbar\":{\"outlinewidth\":0,\"ticks\":\"\"}},\"type\":\"scatter3d\"}],\"scattercarpet\":[{\"marker\":{\"colorbar\":{\"outlinewidth\":0,\"ticks\":\"\"}},\"type\":\"scattercarpet\"}],\"scattergeo\":[{\"marker\":{\"colorbar\":{\"outlinewidth\":0,\"ticks\":\"\"}},\"type\":\"scattergeo\"}],\"scattergl\":[{\"marker\":{\"colorbar\":{\"outlinewidth\":0,\"ticks\":\"\"}},\"type\":\"scattergl\"}],\"scattermapbox\":[{\"marker\":{\"colorbar\":{\"outlinewidth\":0,\"ticks\":\"\"}},\"type\":\"scattermapbox\"}],\"scatterpolar\":[{\"marker\":{\"colorbar\":{\"outlinewidth\":0,\"ticks\":\"\"}},\"type\":\"scatterpolar\"}],\"scatterpolargl\":[{\"marker\":{\"colorbar\":{\"outlinewidth\":0,\"ticks\":\"\"}},\"type\":\"scatterpolargl\"}],\"scatterternary\":[{\"marker\":{\"colorbar\":{\"outlinewidth\":0,\"ticks\":\"\"}},\"type\":\"scatterternary\"}],\"surface\":[{\"colorbar\":{\"outlinewidth\":0,\"ticks\":\"\"},\"colorscale\":[[0.0,\"#0d0887\"],[0.1111111111111111,\"#46039f\"],[0.2222222222222222,\"#7201a8\"],[0.3333333333333333,\"#9c179e\"],[0.4444444444444444,\"#bd3786\"],[0.5555555555555556,\"#d8576b\"],[0.6666666666666666,\"#ed7953\"],[0.7777777777777778,\"#fb9f3a\"],[0.8888888888888888,\"#fdca26\"],[1.0,\"#f0f921\"]],\"type\":\"surface\"}],\"table\":[{\"cells\":{\"fill\":{\"color\":\"#EBF0F8\"},\"line\":{\"color\":\"white\"}},\"header\":{\"fill\":{\"color\":\"#C8D4E3\"},\"line\":{\"color\":\"white\"}},\"type\":\"table\"}]},\"layout\":{\"annotationdefaults\":{\"arrowcolor\":\"#2a3f5f\",\"arrowhead\":0,\"arrowwidth\":1},\"autotypenumbers\":\"strict\",\"coloraxis\":{\"colorbar\":{\"outlinewidth\":0,\"ticks\":\"\"}},\"colorscale\":{\"diverging\":[[0,\"#8e0152\"],[0.1,\"#c51b7d\"],[0.2,\"#de77ae\"],[0.3,\"#f1b6da\"],[0.4,\"#fde0ef\"],[0.5,\"#f7f7f7\"],[0.6,\"#e6f5d0\"],[0.7,\"#b8e186\"],[0.8,\"#7fbc41\"],[0.9,\"#4d9221\"],[1,\"#276419\"]],\"sequential\":[[0.0,\"#0d0887\"],[0.1111111111111111,\"#46039f\"],[0.2222222222222222,\"#7201a8\"],[0.3333333333333333,\"#9c179e\"],[0.4444444444444444,\"#bd3786\"],[0.5555555555555556,\"#d8576b\"],[0.6666666666666666,\"#ed7953\"],[0.7777777777777778,\"#fb9f3a\"],[0.8888888888888888,\"#fdca26\"],[1.0,\"#f0f921\"]],\"sequentialminus\":[[0.0,\"#0d0887\"],[0.1111111111111111,\"#46039f\"],[0.2222222222222222,\"#7201a8\"],[0.3333333333333333,\"#9c179e\"],[0.4444444444444444,\"#bd3786\"],[0.5555555555555556,\"#d8576b\"],[0.6666666666666666,\"#ed7953\"],[0.7777777777777778,\"#fb9f3a\"],[0.8888888888888888,\"#fdca26\"],[1.0,\"#f0f921\"]]},\"colorway\":[\"#636efa\",\"#EF553B\",\"#00cc96\",\"#ab63fa\",\"#FFA15A\",\"#19d3f3\",\"#FF6692\",\"#B6E880\",\"#FF97FF\",\"#FECB52\"],\"font\":{\"color\":\"#2a3f5f\"},\"geo\":{\"bgcolor\":\"white\",\"lakecolor\":\"white\",\"landcolor\":\"#E5ECF6\",\"showlakes\":true,\"showland\":true,\"subunitcolor\":\"white\"},\"hoverlabel\":{\"align\":\"left\"},\"hovermode\":\"closest\",\"mapbox\":{\"style\":\"light\"},\"paper_bgcolor\":\"white\",\"plot_bgcolor\":\"#E5ECF6\",\"polar\":{\"angularaxis\":{\"gridcolor\":\"white\",\"linecolor\":\"white\",\"ticks\":\"\"},\"bgcolor\":\"#E5ECF6\",\"radialaxis\":{\"gridcolor\":\"white\",\"linecolor\":\"white\",\"ticks\":\"\"}},\"scene\":{\"xaxis\":{\"backgroundcolor\":\"#E5ECF6\",\"gridcolor\":\"white\",\"gridwidth\":2,\"linecolor\":\"white\",\"showbackground\":true,\"ticks\":\"\",\"zerolinecolor\":\"white\"},\"yaxis\":{\"backgroundcolor\":\"#E5ECF6\",\"gridcolor\":\"white\",\"gridwidth\":2,\"linecolor\":\"white\",\"showbackground\":true,\"ticks\":\"\",\"zerolinecolor\":\"white\"},\"zaxis\":{\"backgroundcolor\":\"#E5ECF6\",\"gridcolor\":\"white\",\"gridwidth\":2,\"linecolor\":\"white\",\"showbackground\":true,\"ticks\":\"\",\"zerolinecolor\":\"white\"}},\"shapedefaults\":{\"line\":{\"color\":\"#2a3f5f\"}},\"ternary\":{\"aaxis\":{\"gridcolor\":\"white\",\"linecolor\":\"white\",\"ticks\":\"\"},\"baxis\":{\"gridcolor\":\"white\",\"linecolor\":\"white\",\"ticks\":\"\"},\"bgcolor\":\"#E5ECF6\",\"caxis\":{\"gridcolor\":\"white\",\"linecolor\":\"white\",\"ticks\":\"\"}},\"title\":{\"x\":0.05},\"xaxis\":{\"automargin\":true,\"gridcolor\":\"white\",\"linecolor\":\"white\",\"ticks\":\"\",\"title\":{\"standoff\":15},\"zerolinecolor\":\"white\",\"zerolinewidth\":2},\"yaxis\":{\"automargin\":true,\"gridcolor\":\"white\",\"linecolor\":\"white\",\"ticks\":\"\",\"title\":{\"standoff\":15},\"zerolinecolor\":\"white\",\"zerolinewidth\":2}}},\"xaxis\":{\"anchor\":\"y\",\"domain\":[0.0,1.0],\"title\":{\"text\":\"epoch\"}},\"yaxis\":{\"anchor\":\"x\",\"domain\":[0.0,1.0],\"title\":{\"text\":\"loss\"}},\"legend\":{\"title\":{\"text\":\"variable\"},\"tracegroupgap\":0},\"title\":{\"text\":\"Training History\"}},                        {\"responsive\": true}                    ).then(function(){\n",
       "                            \n",
       "var gd = document.getElementById('6a453be1-0b83-4d41-a3f8-52382fff37a2');\n",
       "var x = new MutationObserver(function (mutations, observer) {{\n",
       "        var display = window.getComputedStyle(gd).display;\n",
       "        if (!display || display === 'none') {{\n",
       "            console.log([gd, 'removed!']);\n",
       "            Plotly.purge(gd);\n",
       "            observer.disconnect();\n",
       "        }}\n",
       "}});\n",
       "\n",
       "// Listen for the removal of the full notebook cells\n",
       "var notebookContainer = gd.closest('#notebook-container');\n",
       "if (notebookContainer) {{\n",
       "    x.observe(notebookContainer, {childList: true});\n",
       "}}\n",
       "\n",
       "// Listen for the clearing of the current output cell\n",
       "var outputEl = gd.closest('.output');\n",
       "if (outputEl) {{\n",
       "    x.observe(outputEl, {childList: true});\n",
       "}}\n",
       "\n",
       "                        })                };                });            </script>        </div>"
      ]
     },
     "metadata": {},
     "output_type": "display_data"
    }
   ],
   "source": [
    "fig = px.line(\n",
    "    history_age.history, y=['loss', 'val_loss'],\n",
    "    labels={'index': 'epoch', 'value': 'loss'}, \n",
    "    title='Training History')\n",
    "fig.show()"
   ]
  },
  {
   "cell_type": "markdown",
   "id": "cd10c7e1",
   "metadata": {
    "papermill": {
     "duration": 0.510489,
     "end_time": "2023-08-03T06:58:49.614272",
     "exception": false,
     "start_time": "2023-08-03T06:58:49.103783",
     "status": "completed"
    },
    "tags": []
   },
   "source": [
    "### Loss & Accuracy"
   ]
  },
  {
   "cell_type": "code",
   "execution_count": 29,
   "id": "21920ff2",
   "metadata": {
    "execution": {
     "iopub.execute_input": "2023-08-03T06:58:50.579449Z",
     "iopub.status.busy": "2023-08-03T06:58:50.578252Z",
     "iopub.status.idle": "2023-08-03T06:58:51.671764Z",
     "shell.execute_reply": "2023-08-03T06:58:51.670997Z",
     "shell.execute_reply.started": "2023-08-03T06:42:55.562234Z"
    },
    "papermill": {
     "duration": 1.576201,
     "end_time": "2023-08-03T06:58:51.671958",
     "exception": false,
     "start_time": "2023-08-03T06:58:50.095757",
     "status": "completed"
    },
    "tags": []
   },
   "outputs": [
    {
     "name": "stdout",
     "output_type": "stream",
     "text": [
      "Test loss: 0.6754719018936157\n",
      "Test Accuracy: 0.7560461163520813\n"
     ]
    }
   ],
   "source": [
    "loss, acc = model_age.evaluate(X_test_age, y_test_age, verbose=0)\n",
    "print('Test loss: {}'.format(loss))\n",
    "print('Test Accuracy: {}'.format(acc))"
   ]
  },
  {
   "cell_type": "markdown",
   "id": "d1aaf59a",
   "metadata": {
    "papermill": {
     "duration": 0.485535,
     "end_time": "2023-08-03T06:58:52.907730",
     "exception": false,
     "start_time": "2023-08-03T06:58:52.422195",
     "status": "completed"
    },
    "tags": []
   },
   "source": [
    "# Gender Prediction"
   ]
  },
  {
   "cell_type": "code",
   "execution_count": 30,
   "id": "2d5e1e04",
   "metadata": {
    "execution": {
     "iopub.execute_input": "2023-08-03T06:58:53.882641Z",
     "iopub.status.busy": "2023-08-03T06:58:53.881708Z",
     "iopub.status.idle": "2023-08-03T06:59:35.170699Z",
     "shell.execute_reply": "2023-08-03T06:59:35.169637Z",
     "shell.execute_reply.started": "2023-08-03T06:42:59.234713Z"
    },
    "papermill": {
     "duration": 41.784644,
     "end_time": "2023-08-03T06:59:35.170848",
     "exception": false,
     "start_time": "2023-08-03T06:58:53.386204",
     "status": "completed"
    },
    "tags": []
   },
   "outputs": [
    {
     "name": "stdout",
     "output_type": "stream",
     "text": [
      "Epoch 1/500\n",
      "259/259 [==============================] - 4s 11ms/step - loss: 0.5231 - accuracy: 0.7494 - val_loss: 1.1756 - val_accuracy: 0.4740\n",
      "Epoch 2/500\n",
      "259/259 [==============================] - 2s 8ms/step - loss: 0.3644 - accuracy: 0.8315 - val_loss: 1.3438 - val_accuracy: 0.5008\n",
      "Epoch 3/500\n",
      "259/259 [==============================] - 2s 8ms/step - loss: 0.3358 - accuracy: 0.8459 - val_loss: 0.3641 - val_accuracy: 0.8311\n",
      "Epoch 4/500\n",
      "259/259 [==============================] - 2s 8ms/step - loss: 0.3097 - accuracy: 0.8621 - val_loss: 0.3380 - val_accuracy: 0.8386\n",
      "Epoch 5/500\n",
      "259/259 [==============================] - 2s 8ms/step - loss: 0.2917 - accuracy: 0.8713 - val_loss: 0.3270 - val_accuracy: 0.8622\n",
      "Epoch 6/500\n",
      "259/259 [==============================] - 2s 8ms/step - loss: 0.2778 - accuracy: 0.8777 - val_loss: 0.3462 - val_accuracy: 0.8508\n",
      "Epoch 7/500\n",
      "259/259 [==============================] - 2s 8ms/step - loss: 0.2647 - accuracy: 0.8830 - val_loss: 0.4144 - val_accuracy: 0.8279\n",
      "Epoch 8/500\n",
      "259/259 [==============================] - 2s 8ms/step - loss: 0.2461 - accuracy: 0.8918 - val_loss: 2.9107 - val_accuracy: 0.5444\n",
      "Epoch 9/500\n",
      "259/259 [==============================] - 2s 8ms/step - loss: 0.2319 - accuracy: 0.9019 - val_loss: 0.2792 - val_accuracy: 0.8784\n",
      "Epoch 10/500\n",
      "259/259 [==============================] - 2s 8ms/step - loss: 0.2181 - accuracy: 0.9059 - val_loss: 0.3525 - val_accuracy: 0.8432\n",
      "Epoch 11/500\n",
      "259/259 [==============================] - 2s 8ms/step - loss: 0.2056 - accuracy: 0.9123 - val_loss: 3.0915 - val_accuracy: 0.5886\n",
      "Epoch 12/500\n",
      "259/259 [==============================] - 2s 8ms/step - loss: 0.1914 - accuracy: 0.9224 - val_loss: 2.2895 - val_accuracy: 0.5823\n",
      "Epoch 13/500\n",
      "259/259 [==============================] - 2s 8ms/step - loss: 0.1802 - accuracy: 0.9261 - val_loss: 7.2961 - val_accuracy: 0.5619\n",
      "Epoch 14/500\n",
      "259/259 [==============================] - 3s 10ms/step - loss: 0.1662 - accuracy: 0.9304 - val_loss: 0.5735 - val_accuracy: 0.7189\n",
      "Epoch 15/500\n",
      "259/259 [==============================] - 2s 8ms/step - loss: 0.1523 - accuracy: 0.9400 - val_loss: 1.5121 - val_accuracy: 0.5614\n",
      "Epoch 16/500\n",
      "259/259 [==============================] - 2s 8ms/step - loss: 0.1457 - accuracy: 0.9433 - val_loss: 0.9016 - val_accuracy: 0.6465\n",
      "Epoch 17/500\n",
      "259/259 [==============================] - 2s 8ms/step - loss: 0.1320 - accuracy: 0.9482 - val_loss: 0.4548 - val_accuracy: 0.8303\n",
      "Epoch 18/500\n",
      "259/259 [==============================] - 2s 8ms/step - loss: 0.1297 - accuracy: 0.9481 - val_loss: 0.8958 - val_accuracy: 0.7904\n",
      "Epoch 19/500\n",
      "259/259 [==============================] - 2s 8ms/step - loss: 0.1194 - accuracy: 0.9534 - val_loss: 3.7033 - val_accuracy: 0.4740\n"
     ]
    }
   ],
   "source": [
    "model_gender = my_model(2, \"sigmoid\", \"binary_crossentropy\")\n",
    "history_gender = model_gender.fit(X_train_gender, y_train_gender, \n",
    "                                 batch_size = batch_size,\n",
    "                                 epochs = epochs,\n",
    "                                 validation_data = (X_test_gender, y_test_gender),\n",
    "                                 steps_per_epoch = X_train_gender.shape[0] // batch_size, callbacks=[early_stopping,learning_rate_reduction])\n"
   ]
  },
  {
   "cell_type": "code",
   "execution_count": 31,
   "id": "69b2408b",
   "metadata": {
    "execution": {
     "iopub.execute_input": "2023-08-03T06:59:36.655895Z",
     "iopub.status.busy": "2023-08-03T06:59:36.654893Z",
     "iopub.status.idle": "2023-08-03T07:00:17.840285Z",
     "shell.execute_reply": "2023-08-03T07:00:17.840855Z",
     "shell.execute_reply.started": "2023-08-03T06:51:10.519404Z"
    },
    "papermill": {
     "duration": 41.886882,
     "end_time": "2023-08-03T07:00:17.841052",
     "exception": false,
     "start_time": "2023-08-03T06:59:35.954170",
     "status": "completed"
    },
    "tags": []
   },
   "outputs": [
    {
     "data": {
      "application/vnd.plotly.v1+json": {
       "config": {
        "plotlyServerURL": "https://plot.ly"
       },
       "data": [
        {
         "hovertemplate": "variable=loss<br>epoch=%{x}<br>loss=%{y}<extra></extra>",
         "legendgroup": "loss",
         "line": {
          "color": "#636efa",
          "dash": "solid"
         },
         "marker": {
          "symbol": "circle"
         },
         "mode": "lines",
         "name": "loss",
         "orientation": "v",
         "showlegend": true,
         "type": "scatter",
         "x": [
          0,
          1,
          2,
          3,
          4,
          5,
          6,
          7,
          8,
          9,
          10,
          11,
          12,
          13,
          14,
          15,
          16
         ],
         "xaxis": "x",
         "y": [
          1.0159635543823242,
          0.739375650882721,
          0.6687675714492798,
          0.627336323261261,
          0.5838719010353088,
          0.5524373054504395,
          0.5349140763282776,
          0.49320676922798157,
          0.47127118706703186,
          0.4431757926940918,
          0.4069347381591797,
          0.39010927081108093,
          0.3582351803779602,
          0.33343610167503357,
          0.30066627264022827,
          0.28420811891555786,
          0.2440837025642395
         ],
         "yaxis": "y"
        },
        {
         "hovertemplate": "variable=val_loss<br>epoch=%{x}<br>loss=%{y}<extra></extra>",
         "legendgroup": "val_loss",
         "line": {
          "color": "#EF553B",
          "dash": "solid"
         },
         "marker": {
          "symbol": "circle"
         },
         "mode": "lines",
         "name": "val_loss",
         "orientation": "v",
         "showlegend": true,
         "type": "scatter",
         "x": [
          0,
          1,
          2,
          3,
          4,
          5,
          6,
          7,
          8,
          9,
          10,
          11,
          12,
          13,
          14,
          15,
          16
         ],
         "xaxis": "x",
         "y": [
          4.3735456466674805,
          3.1514081954956055,
          0.8181901574134827,
          1.9670690298080444,
          0.9982733130455017,
          1.0801538228988647,
          0.6754719018936157,
          1.2408300638198853,
          0.786295473575592,
          0.7603524327278137,
          0.7604896426200867,
          1.4781384468078613,
          0.7361456155776978,
          0.8357049226760864,
          1.9448052644729614,
          1.356702446937561,
          1.1890641450881958
         ],
         "yaxis": "y"
        }
       ],
       "layout": {
        "legend": {
         "title": {
          "text": "variable"
         },
         "tracegroupgap": 0
        },
        "template": {
         "data": {
          "bar": [
           {
            "error_x": {
             "color": "#2a3f5f"
            },
            "error_y": {
             "color": "#2a3f5f"
            },
            "marker": {
             "line": {
              "color": "#E5ECF6",
              "width": 0.5
             },
             "pattern": {
              "fillmode": "overlay",
              "size": 10,
              "solidity": 0.2
             }
            },
            "type": "bar"
           }
          ],
          "barpolar": [
           {
            "marker": {
             "line": {
              "color": "#E5ECF6",
              "width": 0.5
             },
             "pattern": {
              "fillmode": "overlay",
              "size": 10,
              "solidity": 0.2
             }
            },
            "type": "barpolar"
           }
          ],
          "carpet": [
           {
            "aaxis": {
             "endlinecolor": "#2a3f5f",
             "gridcolor": "white",
             "linecolor": "white",
             "minorgridcolor": "white",
             "startlinecolor": "#2a3f5f"
            },
            "baxis": {
             "endlinecolor": "#2a3f5f",
             "gridcolor": "white",
             "linecolor": "white",
             "minorgridcolor": "white",
             "startlinecolor": "#2a3f5f"
            },
            "type": "carpet"
           }
          ],
          "choropleth": [
           {
            "colorbar": {
             "outlinewidth": 0,
             "ticks": ""
            },
            "type": "choropleth"
           }
          ],
          "contour": [
           {
            "colorbar": {
             "outlinewidth": 0,
             "ticks": ""
            },
            "colorscale": [
             [
              0,
              "#0d0887"
             ],
             [
              0.1111111111111111,
              "#46039f"
             ],
             [
              0.2222222222222222,
              "#7201a8"
             ],
             [
              0.3333333333333333,
              "#9c179e"
             ],
             [
              0.4444444444444444,
              "#bd3786"
             ],
             [
              0.5555555555555556,
              "#d8576b"
             ],
             [
              0.6666666666666666,
              "#ed7953"
             ],
             [
              0.7777777777777778,
              "#fb9f3a"
             ],
             [
              0.8888888888888888,
              "#fdca26"
             ],
             [
              1,
              "#f0f921"
             ]
            ],
            "type": "contour"
           }
          ],
          "contourcarpet": [
           {
            "colorbar": {
             "outlinewidth": 0,
             "ticks": ""
            },
            "type": "contourcarpet"
           }
          ],
          "heatmap": [
           {
            "colorbar": {
             "outlinewidth": 0,
             "ticks": ""
            },
            "colorscale": [
             [
              0,
              "#0d0887"
             ],
             [
              0.1111111111111111,
              "#46039f"
             ],
             [
              0.2222222222222222,
              "#7201a8"
             ],
             [
              0.3333333333333333,
              "#9c179e"
             ],
             [
              0.4444444444444444,
              "#bd3786"
             ],
             [
              0.5555555555555556,
              "#d8576b"
             ],
             [
              0.6666666666666666,
              "#ed7953"
             ],
             [
              0.7777777777777778,
              "#fb9f3a"
             ],
             [
              0.8888888888888888,
              "#fdca26"
             ],
             [
              1,
              "#f0f921"
             ]
            ],
            "type": "heatmap"
           }
          ],
          "heatmapgl": [
           {
            "colorbar": {
             "outlinewidth": 0,
             "ticks": ""
            },
            "colorscale": [
             [
              0,
              "#0d0887"
             ],
             [
              0.1111111111111111,
              "#46039f"
             ],
             [
              0.2222222222222222,
              "#7201a8"
             ],
             [
              0.3333333333333333,
              "#9c179e"
             ],
             [
              0.4444444444444444,
              "#bd3786"
             ],
             [
              0.5555555555555556,
              "#d8576b"
             ],
             [
              0.6666666666666666,
              "#ed7953"
             ],
             [
              0.7777777777777778,
              "#fb9f3a"
             ],
             [
              0.8888888888888888,
              "#fdca26"
             ],
             [
              1,
              "#f0f921"
             ]
            ],
            "type": "heatmapgl"
           }
          ],
          "histogram": [
           {
            "marker": {
             "pattern": {
              "fillmode": "overlay",
              "size": 10,
              "solidity": 0.2
             }
            },
            "type": "histogram"
           }
          ],
          "histogram2d": [
           {
            "colorbar": {
             "outlinewidth": 0,
             "ticks": ""
            },
            "colorscale": [
             [
              0,
              "#0d0887"
             ],
             [
              0.1111111111111111,
              "#46039f"
             ],
             [
              0.2222222222222222,
              "#7201a8"
             ],
             [
              0.3333333333333333,
              "#9c179e"
             ],
             [
              0.4444444444444444,
              "#bd3786"
             ],
             [
              0.5555555555555556,
              "#d8576b"
             ],
             [
              0.6666666666666666,
              "#ed7953"
             ],
             [
              0.7777777777777778,
              "#fb9f3a"
             ],
             [
              0.8888888888888888,
              "#fdca26"
             ],
             [
              1,
              "#f0f921"
             ]
            ],
            "type": "histogram2d"
           }
          ],
          "histogram2dcontour": [
           {
            "colorbar": {
             "outlinewidth": 0,
             "ticks": ""
            },
            "colorscale": [
             [
              0,
              "#0d0887"
             ],
             [
              0.1111111111111111,
              "#46039f"
             ],
             [
              0.2222222222222222,
              "#7201a8"
             ],
             [
              0.3333333333333333,
              "#9c179e"
             ],
             [
              0.4444444444444444,
              "#bd3786"
             ],
             [
              0.5555555555555556,
              "#d8576b"
             ],
             [
              0.6666666666666666,
              "#ed7953"
             ],
             [
              0.7777777777777778,
              "#fb9f3a"
             ],
             [
              0.8888888888888888,
              "#fdca26"
             ],
             [
              1,
              "#f0f921"
             ]
            ],
            "type": "histogram2dcontour"
           }
          ],
          "mesh3d": [
           {
            "colorbar": {
             "outlinewidth": 0,
             "ticks": ""
            },
            "type": "mesh3d"
           }
          ],
          "parcoords": [
           {
            "line": {
             "colorbar": {
              "outlinewidth": 0,
              "ticks": ""
             }
            },
            "type": "parcoords"
           }
          ],
          "pie": [
           {
            "automargin": true,
            "type": "pie"
           }
          ],
          "scatter": [
           {
            "marker": {
             "colorbar": {
              "outlinewidth": 0,
              "ticks": ""
             }
            },
            "type": "scatter"
           }
          ],
          "scatter3d": [
           {
            "line": {
             "colorbar": {
              "outlinewidth": 0,
              "ticks": ""
             }
            },
            "marker": {
             "colorbar": {
              "outlinewidth": 0,
              "ticks": ""
             }
            },
            "type": "scatter3d"
           }
          ],
          "scattercarpet": [
           {
            "marker": {
             "colorbar": {
              "outlinewidth": 0,
              "ticks": ""
             }
            },
            "type": "scattercarpet"
           }
          ],
          "scattergeo": [
           {
            "marker": {
             "colorbar": {
              "outlinewidth": 0,
              "ticks": ""
             }
            },
            "type": "scattergeo"
           }
          ],
          "scattergl": [
           {
            "marker": {
             "colorbar": {
              "outlinewidth": 0,
              "ticks": ""
             }
            },
            "type": "scattergl"
           }
          ],
          "scattermapbox": [
           {
            "marker": {
             "colorbar": {
              "outlinewidth": 0,
              "ticks": ""
             }
            },
            "type": "scattermapbox"
           }
          ],
          "scatterpolar": [
           {
            "marker": {
             "colorbar": {
              "outlinewidth": 0,
              "ticks": ""
             }
            },
            "type": "scatterpolar"
           }
          ],
          "scatterpolargl": [
           {
            "marker": {
             "colorbar": {
              "outlinewidth": 0,
              "ticks": ""
             }
            },
            "type": "scatterpolargl"
           }
          ],
          "scatterternary": [
           {
            "marker": {
             "colorbar": {
              "outlinewidth": 0,
              "ticks": ""
             }
            },
            "type": "scatterternary"
           }
          ],
          "surface": [
           {
            "colorbar": {
             "outlinewidth": 0,
             "ticks": ""
            },
            "colorscale": [
             [
              0,
              "#0d0887"
             ],
             [
              0.1111111111111111,
              "#46039f"
             ],
             [
              0.2222222222222222,
              "#7201a8"
             ],
             [
              0.3333333333333333,
              "#9c179e"
             ],
             [
              0.4444444444444444,
              "#bd3786"
             ],
             [
              0.5555555555555556,
              "#d8576b"
             ],
             [
              0.6666666666666666,
              "#ed7953"
             ],
             [
              0.7777777777777778,
              "#fb9f3a"
             ],
             [
              0.8888888888888888,
              "#fdca26"
             ],
             [
              1,
              "#f0f921"
             ]
            ],
            "type": "surface"
           }
          ],
          "table": [
           {
            "cells": {
             "fill": {
              "color": "#EBF0F8"
             },
             "line": {
              "color": "white"
             }
            },
            "header": {
             "fill": {
              "color": "#C8D4E3"
             },
             "line": {
              "color": "white"
             }
            },
            "type": "table"
           }
          ]
         },
         "layout": {
          "annotationdefaults": {
           "arrowcolor": "#2a3f5f",
           "arrowhead": 0,
           "arrowwidth": 1
          },
          "autotypenumbers": "strict",
          "coloraxis": {
           "colorbar": {
            "outlinewidth": 0,
            "ticks": ""
           }
          },
          "colorscale": {
           "diverging": [
            [
             0,
             "#8e0152"
            ],
            [
             0.1,
             "#c51b7d"
            ],
            [
             0.2,
             "#de77ae"
            ],
            [
             0.3,
             "#f1b6da"
            ],
            [
             0.4,
             "#fde0ef"
            ],
            [
             0.5,
             "#f7f7f7"
            ],
            [
             0.6,
             "#e6f5d0"
            ],
            [
             0.7,
             "#b8e186"
            ],
            [
             0.8,
             "#7fbc41"
            ],
            [
             0.9,
             "#4d9221"
            ],
            [
             1,
             "#276419"
            ]
           ],
           "sequential": [
            [
             0,
             "#0d0887"
            ],
            [
             0.1111111111111111,
             "#46039f"
            ],
            [
             0.2222222222222222,
             "#7201a8"
            ],
            [
             0.3333333333333333,
             "#9c179e"
            ],
            [
             0.4444444444444444,
             "#bd3786"
            ],
            [
             0.5555555555555556,
             "#d8576b"
            ],
            [
             0.6666666666666666,
             "#ed7953"
            ],
            [
             0.7777777777777778,
             "#fb9f3a"
            ],
            [
             0.8888888888888888,
             "#fdca26"
            ],
            [
             1,
             "#f0f921"
            ]
           ],
           "sequentialminus": [
            [
             0,
             "#0d0887"
            ],
            [
             0.1111111111111111,
             "#46039f"
            ],
            [
             0.2222222222222222,
             "#7201a8"
            ],
            [
             0.3333333333333333,
             "#9c179e"
            ],
            [
             0.4444444444444444,
             "#bd3786"
            ],
            [
             0.5555555555555556,
             "#d8576b"
            ],
            [
             0.6666666666666666,
             "#ed7953"
            ],
            [
             0.7777777777777778,
             "#fb9f3a"
            ],
            [
             0.8888888888888888,
             "#fdca26"
            ],
            [
             1,
             "#f0f921"
            ]
           ]
          },
          "colorway": [
           "#636efa",
           "#EF553B",
           "#00cc96",
           "#ab63fa",
           "#FFA15A",
           "#19d3f3",
           "#FF6692",
           "#B6E880",
           "#FF97FF",
           "#FECB52"
          ],
          "font": {
           "color": "#2a3f5f"
          },
          "geo": {
           "bgcolor": "white",
           "lakecolor": "white",
           "landcolor": "#E5ECF6",
           "showlakes": true,
           "showland": true,
           "subunitcolor": "white"
          },
          "hoverlabel": {
           "align": "left"
          },
          "hovermode": "closest",
          "mapbox": {
           "style": "light"
          },
          "paper_bgcolor": "white",
          "plot_bgcolor": "#E5ECF6",
          "polar": {
           "angularaxis": {
            "gridcolor": "white",
            "linecolor": "white",
            "ticks": ""
           },
           "bgcolor": "#E5ECF6",
           "radialaxis": {
            "gridcolor": "white",
            "linecolor": "white",
            "ticks": ""
           }
          },
          "scene": {
           "xaxis": {
            "backgroundcolor": "#E5ECF6",
            "gridcolor": "white",
            "gridwidth": 2,
            "linecolor": "white",
            "showbackground": true,
            "ticks": "",
            "zerolinecolor": "white"
           },
           "yaxis": {
            "backgroundcolor": "#E5ECF6",
            "gridcolor": "white",
            "gridwidth": 2,
            "linecolor": "white",
            "showbackground": true,
            "ticks": "",
            "zerolinecolor": "white"
           },
           "zaxis": {
            "backgroundcolor": "#E5ECF6",
            "gridcolor": "white",
            "gridwidth": 2,
            "linecolor": "white",
            "showbackground": true,
            "ticks": "",
            "zerolinecolor": "white"
           }
          },
          "shapedefaults": {
           "line": {
            "color": "#2a3f5f"
           }
          },
          "ternary": {
           "aaxis": {
            "gridcolor": "white",
            "linecolor": "white",
            "ticks": ""
           },
           "baxis": {
            "gridcolor": "white",
            "linecolor": "white",
            "ticks": ""
           },
           "bgcolor": "#E5ECF6",
           "caxis": {
            "gridcolor": "white",
            "linecolor": "white",
            "ticks": ""
           }
          },
          "title": {
           "x": 0.05
          },
          "xaxis": {
           "automargin": true,
           "gridcolor": "white",
           "linecolor": "white",
           "ticks": "",
           "title": {
            "standoff": 15
           },
           "zerolinecolor": "white",
           "zerolinewidth": 2
          },
          "yaxis": {
           "automargin": true,
           "gridcolor": "white",
           "linecolor": "white",
           "ticks": "",
           "title": {
            "standoff": 15
           },
           "zerolinecolor": "white",
           "zerolinewidth": 2
          }
         }
        },
        "title": {
         "text": "Training History"
        },
        "xaxis": {
         "anchor": "y",
         "domain": [
          0,
          1
         ],
         "title": {
          "text": "epoch"
         }
        },
        "yaxis": {
         "anchor": "x",
         "domain": [
          0,
          1
         ],
         "title": {
          "text": "loss"
         }
        }
       }
      },
      "text/html": [
       "<div>                            <div id=\"88b5e963-416b-4342-81b4-cd6ecdf3e80c\" class=\"plotly-graph-div\" style=\"height:525px; width:100%;\"></div>            <script type=\"text/javascript\">                require([\"plotly\"], function(Plotly) {                    window.PLOTLYENV=window.PLOTLYENV || {};                                    if (document.getElementById(\"88b5e963-416b-4342-81b4-cd6ecdf3e80c\")) {                    Plotly.newPlot(                        \"88b5e963-416b-4342-81b4-cd6ecdf3e80c\",                        [{\"hovertemplate\":\"variable=loss<br>epoch=%{x}<br>loss=%{y}<extra></extra>\",\"legendgroup\":\"loss\",\"line\":{\"color\":\"#636efa\",\"dash\":\"solid\"},\"marker\":{\"symbol\":\"circle\"},\"mode\":\"lines\",\"name\":\"loss\",\"orientation\":\"v\",\"showlegend\":true,\"x\":[0,1,2,3,4,5,6,7,8,9,10,11,12,13,14,15,16],\"xaxis\":\"x\",\"y\":[1.0159635543823242,0.739375650882721,0.6687675714492798,0.627336323261261,0.5838719010353088,0.5524373054504395,0.5349140763282776,0.49320676922798157,0.47127118706703186,0.4431757926940918,0.4069347381591797,0.39010927081108093,0.3582351803779602,0.33343610167503357,0.30066627264022827,0.28420811891555786,0.2440837025642395],\"yaxis\":\"y\",\"type\":\"scatter\"},{\"hovertemplate\":\"variable=val_loss<br>epoch=%{x}<br>loss=%{y}<extra></extra>\",\"legendgroup\":\"val_loss\",\"line\":{\"color\":\"#EF553B\",\"dash\":\"solid\"},\"marker\":{\"symbol\":\"circle\"},\"mode\":\"lines\",\"name\":\"val_loss\",\"orientation\":\"v\",\"showlegend\":true,\"x\":[0,1,2,3,4,5,6,7,8,9,10,11,12,13,14,15,16],\"xaxis\":\"x\",\"y\":[4.3735456466674805,3.1514081954956055,0.8181901574134827,1.9670690298080444,0.9982733130455017,1.0801538228988647,0.6754719018936157,1.2408300638198853,0.786295473575592,0.7603524327278137,0.7604896426200867,1.4781384468078613,0.7361456155776978,0.8357049226760864,1.9448052644729614,1.356702446937561,1.1890641450881958],\"yaxis\":\"y\",\"type\":\"scatter\"}],                        {\"template\":{\"data\":{\"bar\":[{\"error_x\":{\"color\":\"#2a3f5f\"},\"error_y\":{\"color\":\"#2a3f5f\"},\"marker\":{\"line\":{\"color\":\"#E5ECF6\",\"width\":0.5},\"pattern\":{\"fillmode\":\"overlay\",\"size\":10,\"solidity\":0.2}},\"type\":\"bar\"}],\"barpolar\":[{\"marker\":{\"line\":{\"color\":\"#E5ECF6\",\"width\":0.5},\"pattern\":{\"fillmode\":\"overlay\",\"size\":10,\"solidity\":0.2}},\"type\":\"barpolar\"}],\"carpet\":[{\"aaxis\":{\"endlinecolor\":\"#2a3f5f\",\"gridcolor\":\"white\",\"linecolor\":\"white\",\"minorgridcolor\":\"white\",\"startlinecolor\":\"#2a3f5f\"},\"baxis\":{\"endlinecolor\":\"#2a3f5f\",\"gridcolor\":\"white\",\"linecolor\":\"white\",\"minorgridcolor\":\"white\",\"startlinecolor\":\"#2a3f5f\"},\"type\":\"carpet\"}],\"choropleth\":[{\"colorbar\":{\"outlinewidth\":0,\"ticks\":\"\"},\"type\":\"choropleth\"}],\"contour\":[{\"colorbar\":{\"outlinewidth\":0,\"ticks\":\"\"},\"colorscale\":[[0.0,\"#0d0887\"],[0.1111111111111111,\"#46039f\"],[0.2222222222222222,\"#7201a8\"],[0.3333333333333333,\"#9c179e\"],[0.4444444444444444,\"#bd3786\"],[0.5555555555555556,\"#d8576b\"],[0.6666666666666666,\"#ed7953\"],[0.7777777777777778,\"#fb9f3a\"],[0.8888888888888888,\"#fdca26\"],[1.0,\"#f0f921\"]],\"type\":\"contour\"}],\"contourcarpet\":[{\"colorbar\":{\"outlinewidth\":0,\"ticks\":\"\"},\"type\":\"contourcarpet\"}],\"heatmap\":[{\"colorbar\":{\"outlinewidth\":0,\"ticks\":\"\"},\"colorscale\":[[0.0,\"#0d0887\"],[0.1111111111111111,\"#46039f\"],[0.2222222222222222,\"#7201a8\"],[0.3333333333333333,\"#9c179e\"],[0.4444444444444444,\"#bd3786\"],[0.5555555555555556,\"#d8576b\"],[0.6666666666666666,\"#ed7953\"],[0.7777777777777778,\"#fb9f3a\"],[0.8888888888888888,\"#fdca26\"],[1.0,\"#f0f921\"]],\"type\":\"heatmap\"}],\"heatmapgl\":[{\"colorbar\":{\"outlinewidth\":0,\"ticks\":\"\"},\"colorscale\":[[0.0,\"#0d0887\"],[0.1111111111111111,\"#46039f\"],[0.2222222222222222,\"#7201a8\"],[0.3333333333333333,\"#9c179e\"],[0.4444444444444444,\"#bd3786\"],[0.5555555555555556,\"#d8576b\"],[0.6666666666666666,\"#ed7953\"],[0.7777777777777778,\"#fb9f3a\"],[0.8888888888888888,\"#fdca26\"],[1.0,\"#f0f921\"]],\"type\":\"heatmapgl\"}],\"histogram\":[{\"marker\":{\"pattern\":{\"fillmode\":\"overlay\",\"size\":10,\"solidity\":0.2}},\"type\":\"histogram\"}],\"histogram2d\":[{\"colorbar\":{\"outlinewidth\":0,\"ticks\":\"\"},\"colorscale\":[[0.0,\"#0d0887\"],[0.1111111111111111,\"#46039f\"],[0.2222222222222222,\"#7201a8\"],[0.3333333333333333,\"#9c179e\"],[0.4444444444444444,\"#bd3786\"],[0.5555555555555556,\"#d8576b\"],[0.6666666666666666,\"#ed7953\"],[0.7777777777777778,\"#fb9f3a\"],[0.8888888888888888,\"#fdca26\"],[1.0,\"#f0f921\"]],\"type\":\"histogram2d\"}],\"histogram2dcontour\":[{\"colorbar\":{\"outlinewidth\":0,\"ticks\":\"\"},\"colorscale\":[[0.0,\"#0d0887\"],[0.1111111111111111,\"#46039f\"],[0.2222222222222222,\"#7201a8\"],[0.3333333333333333,\"#9c179e\"],[0.4444444444444444,\"#bd3786\"],[0.5555555555555556,\"#d8576b\"],[0.6666666666666666,\"#ed7953\"],[0.7777777777777778,\"#fb9f3a\"],[0.8888888888888888,\"#fdca26\"],[1.0,\"#f0f921\"]],\"type\":\"histogram2dcontour\"}],\"mesh3d\":[{\"colorbar\":{\"outlinewidth\":0,\"ticks\":\"\"},\"type\":\"mesh3d\"}],\"parcoords\":[{\"line\":{\"colorbar\":{\"outlinewidth\":0,\"ticks\":\"\"}},\"type\":\"parcoords\"}],\"pie\":[{\"automargin\":true,\"type\":\"pie\"}],\"scatter\":[{\"marker\":{\"colorbar\":{\"outlinewidth\":0,\"ticks\":\"\"}},\"type\":\"scatter\"}],\"scatter3d\":[{\"line\":{\"colorbar\":{\"outlinewidth\":0,\"ticks\":\"\"}},\"marker\":{\"colorbar\":{\"outlinewidth\":0,\"ticks\":\"\"}},\"type\":\"scatter3d\"}],\"scattercarpet\":[{\"marker\":{\"colorbar\":{\"outlinewidth\":0,\"ticks\":\"\"}},\"type\":\"scattercarpet\"}],\"scattergeo\":[{\"marker\":{\"colorbar\":{\"outlinewidth\":0,\"ticks\":\"\"}},\"type\":\"scattergeo\"}],\"scattergl\":[{\"marker\":{\"colorbar\":{\"outlinewidth\":0,\"ticks\":\"\"}},\"type\":\"scattergl\"}],\"scattermapbox\":[{\"marker\":{\"colorbar\":{\"outlinewidth\":0,\"ticks\":\"\"}},\"type\":\"scattermapbox\"}],\"scatterpolar\":[{\"marker\":{\"colorbar\":{\"outlinewidth\":0,\"ticks\":\"\"}},\"type\":\"scatterpolar\"}],\"scatterpolargl\":[{\"marker\":{\"colorbar\":{\"outlinewidth\":0,\"ticks\":\"\"}},\"type\":\"scatterpolargl\"}],\"scatterternary\":[{\"marker\":{\"colorbar\":{\"outlinewidth\":0,\"ticks\":\"\"}},\"type\":\"scatterternary\"}],\"surface\":[{\"colorbar\":{\"outlinewidth\":0,\"ticks\":\"\"},\"colorscale\":[[0.0,\"#0d0887\"],[0.1111111111111111,\"#46039f\"],[0.2222222222222222,\"#7201a8\"],[0.3333333333333333,\"#9c179e\"],[0.4444444444444444,\"#bd3786\"],[0.5555555555555556,\"#d8576b\"],[0.6666666666666666,\"#ed7953\"],[0.7777777777777778,\"#fb9f3a\"],[0.8888888888888888,\"#fdca26\"],[1.0,\"#f0f921\"]],\"type\":\"surface\"}],\"table\":[{\"cells\":{\"fill\":{\"color\":\"#EBF0F8\"},\"line\":{\"color\":\"white\"}},\"header\":{\"fill\":{\"color\":\"#C8D4E3\"},\"line\":{\"color\":\"white\"}},\"type\":\"table\"}]},\"layout\":{\"annotationdefaults\":{\"arrowcolor\":\"#2a3f5f\",\"arrowhead\":0,\"arrowwidth\":1},\"autotypenumbers\":\"strict\",\"coloraxis\":{\"colorbar\":{\"outlinewidth\":0,\"ticks\":\"\"}},\"colorscale\":{\"diverging\":[[0,\"#8e0152\"],[0.1,\"#c51b7d\"],[0.2,\"#de77ae\"],[0.3,\"#f1b6da\"],[0.4,\"#fde0ef\"],[0.5,\"#f7f7f7\"],[0.6,\"#e6f5d0\"],[0.7,\"#b8e186\"],[0.8,\"#7fbc41\"],[0.9,\"#4d9221\"],[1,\"#276419\"]],\"sequential\":[[0.0,\"#0d0887\"],[0.1111111111111111,\"#46039f\"],[0.2222222222222222,\"#7201a8\"],[0.3333333333333333,\"#9c179e\"],[0.4444444444444444,\"#bd3786\"],[0.5555555555555556,\"#d8576b\"],[0.6666666666666666,\"#ed7953\"],[0.7777777777777778,\"#fb9f3a\"],[0.8888888888888888,\"#fdca26\"],[1.0,\"#f0f921\"]],\"sequentialminus\":[[0.0,\"#0d0887\"],[0.1111111111111111,\"#46039f\"],[0.2222222222222222,\"#7201a8\"],[0.3333333333333333,\"#9c179e\"],[0.4444444444444444,\"#bd3786\"],[0.5555555555555556,\"#d8576b\"],[0.6666666666666666,\"#ed7953\"],[0.7777777777777778,\"#fb9f3a\"],[0.8888888888888888,\"#fdca26\"],[1.0,\"#f0f921\"]]},\"colorway\":[\"#636efa\",\"#EF553B\",\"#00cc96\",\"#ab63fa\",\"#FFA15A\",\"#19d3f3\",\"#FF6692\",\"#B6E880\",\"#FF97FF\",\"#FECB52\"],\"font\":{\"color\":\"#2a3f5f\"},\"geo\":{\"bgcolor\":\"white\",\"lakecolor\":\"white\",\"landcolor\":\"#E5ECF6\",\"showlakes\":true,\"showland\":true,\"subunitcolor\":\"white\"},\"hoverlabel\":{\"align\":\"left\"},\"hovermode\":\"closest\",\"mapbox\":{\"style\":\"light\"},\"paper_bgcolor\":\"white\",\"plot_bgcolor\":\"#E5ECF6\",\"polar\":{\"angularaxis\":{\"gridcolor\":\"white\",\"linecolor\":\"white\",\"ticks\":\"\"},\"bgcolor\":\"#E5ECF6\",\"radialaxis\":{\"gridcolor\":\"white\",\"linecolor\":\"white\",\"ticks\":\"\"}},\"scene\":{\"xaxis\":{\"backgroundcolor\":\"#E5ECF6\",\"gridcolor\":\"white\",\"gridwidth\":2,\"linecolor\":\"white\",\"showbackground\":true,\"ticks\":\"\",\"zerolinecolor\":\"white\"},\"yaxis\":{\"backgroundcolor\":\"#E5ECF6\",\"gridcolor\":\"white\",\"gridwidth\":2,\"linecolor\":\"white\",\"showbackground\":true,\"ticks\":\"\",\"zerolinecolor\":\"white\"},\"zaxis\":{\"backgroundcolor\":\"#E5ECF6\",\"gridcolor\":\"white\",\"gridwidth\":2,\"linecolor\":\"white\",\"showbackground\":true,\"ticks\":\"\",\"zerolinecolor\":\"white\"}},\"shapedefaults\":{\"line\":{\"color\":\"#2a3f5f\"}},\"ternary\":{\"aaxis\":{\"gridcolor\":\"white\",\"linecolor\":\"white\",\"ticks\":\"\"},\"baxis\":{\"gridcolor\":\"white\",\"linecolor\":\"white\",\"ticks\":\"\"},\"bgcolor\":\"#E5ECF6\",\"caxis\":{\"gridcolor\":\"white\",\"linecolor\":\"white\",\"ticks\":\"\"}},\"title\":{\"x\":0.05},\"xaxis\":{\"automargin\":true,\"gridcolor\":\"white\",\"linecolor\":\"white\",\"ticks\":\"\",\"title\":{\"standoff\":15},\"zerolinecolor\":\"white\",\"zerolinewidth\":2},\"yaxis\":{\"automargin\":true,\"gridcolor\":\"white\",\"linecolor\":\"white\",\"ticks\":\"\",\"title\":{\"standoff\":15},\"zerolinecolor\":\"white\",\"zerolinewidth\":2}}},\"xaxis\":{\"anchor\":\"y\",\"domain\":[0.0,1.0],\"title\":{\"text\":\"epoch\"}},\"yaxis\":{\"anchor\":\"x\",\"domain\":[0.0,1.0],\"title\":{\"text\":\"loss\"}},\"legend\":{\"title\":{\"text\":\"variable\"},\"tracegroupgap\":0},\"title\":{\"text\":\"Training History\"}},                        {\"responsive\": true}                    ).then(function(){\n",
       "                            \n",
       "var gd = document.getElementById('88b5e963-416b-4342-81b4-cd6ecdf3e80c');\n",
       "var x = new MutationObserver(function (mutations, observer) {{\n",
       "        var display = window.getComputedStyle(gd).display;\n",
       "        if (!display || display === 'none') {{\n",
       "            console.log([gd, 'removed!']);\n",
       "            Plotly.purge(gd);\n",
       "            observer.disconnect();\n",
       "        }}\n",
       "}});\n",
       "\n",
       "// Listen for the removal of the full notebook cells\n",
       "var notebookContainer = gd.closest('#notebook-container');\n",
       "if (notebookContainer) {{\n",
       "    x.observe(notebookContainer, {childList: true});\n",
       "}}\n",
       "\n",
       "// Listen for the clearing of the current output cell\n",
       "var outputEl = gd.closest('.output');\n",
       "if (outputEl) {{\n",
       "    x.observe(outputEl, {childList: true});\n",
       "}}\n",
       "\n",
       "                        })                };                });            </script>        </div>"
      ]
     },
     "metadata": {},
     "output_type": "display_data"
    }
   ],
   "source": [
    "fx = px.line(\n",
    "    history_gender.history, y=[\"loss\", \"val_loss\"],\n",
    "    labels = {'index':'epoch', 'value':'loss'},\n",
    "    title = 'Training History')\n",
    "\n",
    "fig.show()"
   ]
  },
  {
   "cell_type": "markdown",
   "id": "d3df3321",
   "metadata": {
    "papermill": {
     "duration": 0.735581,
     "end_time": "2023-08-03T07:00:19.281825",
     "exception": false,
     "start_time": "2023-08-03T07:00:18.546244",
     "status": "completed"
    },
    "tags": []
   },
   "source": [
    "### Loss and Accuracy"
   ]
  },
  {
   "cell_type": "code",
   "execution_count": 32,
   "id": "977f88e1",
   "metadata": {
    "execution": {
     "iopub.execute_input": "2023-08-03T07:00:20.739202Z",
     "iopub.status.busy": "2023-08-03T07:00:20.737590Z",
     "iopub.status.idle": "2023-08-03T07:00:21.447097Z",
     "shell.execute_reply": "2023-08-03T07:00:21.446564Z",
     "shell.execute_reply.started": "2023-08-03T06:51:22.614210Z"
    },
    "papermill": {
     "duration": 1.428118,
     "end_time": "2023-08-03T07:00:21.447248",
     "exception": false,
     "start_time": "2023-08-03T07:00:20.019130",
     "status": "completed"
    },
    "tags": []
   },
   "outputs": [
    {
     "name": "stdout",
     "output_type": "stream",
     "text": [
      "Test loss: 0.27924877405166626\n",
      "Test Accuracy: 0.8783745765686035\n"
     ]
    }
   ],
   "source": [
    "loss, acc = model_gender.evaluate(X_test_gender, y_test_gender, verbose=0)\n",
    "print(\"Test loss: {}\".format(loss))\n",
    "print(\"Test Accuracy: {}\".format(acc))"
   ]
  },
  {
   "cell_type": "code",
   "execution_count": 33,
   "id": "3ae3c932",
   "metadata": {
    "execution": {
     "iopub.execute_input": "2023-08-03T07:00:22.962394Z",
     "iopub.status.busy": "2023-08-03T07:00:22.956441Z",
     "iopub.status.idle": "2023-08-03T07:00:23.040183Z",
     "shell.execute_reply": "2023-08-03T07:00:23.039495Z",
     "shell.execute_reply.started": "2023-08-03T06:51:26.339098Z"
    },
    "papermill": {
     "duration": 0.80419,
     "end_time": "2023-08-03T07:00:23.040348",
     "exception": false,
     "start_time": "2023-08-03T07:00:22.236158",
     "status": "completed"
    },
    "tags": []
   },
   "outputs": [],
   "source": [
    "model_age.save('age.h5')"
   ]
  },
  {
   "cell_type": "code",
   "execution_count": 34,
   "id": "3776a3de",
   "metadata": {
    "execution": {
     "iopub.execute_input": "2023-08-03T07:00:24.501977Z",
     "iopub.status.busy": "2023-08-03T07:00:24.500972Z",
     "iopub.status.idle": "2023-08-03T07:00:24.566494Z",
     "shell.execute_reply": "2023-08-03T07:00:24.567012Z",
     "shell.execute_reply.started": "2023-08-03T06:54:27.058494Z"
    },
    "papermill": {
     "duration": 0.79468,
     "end_time": "2023-08-03T07:00:24.567238",
     "exception": false,
     "start_time": "2023-08-03T07:00:23.772558",
     "status": "completed"
    },
    "tags": []
   },
   "outputs": [],
   "source": [
    "model_gender.save('gender.h5')"
   ]
  }
 ],
 "metadata": {
  "kernelspec": {
   "display_name": "Python 3 (ipykernel)",
   "language": "python",
   "name": "python3"
  },
  "language_info": {
   "codemirror_mode": {
    "name": "ipython",
    "version": 3
   },
   "file_extension": ".py",
   "mimetype": "text/x-python",
   "name": "python",
   "nbconvert_exporter": "python",
   "pygments_lexer": "ipython3",
   "version": "3.9.7"
  },
  "papermill": {
   "default_parameters": {},
   "duration": 264.063158,
   "end_time": "2023-08-03T07:00:28.547355",
   "environment_variables": {},
   "exception": null,
   "input_path": "__notebook__.ipynb",
   "output_path": "__notebook__.ipynb",
   "parameters": {},
   "start_time": "2023-08-03T06:56:04.484197",
   "version": "2.3.3"
  }
 },
 "nbformat": 4,
 "nbformat_minor": 5
}
